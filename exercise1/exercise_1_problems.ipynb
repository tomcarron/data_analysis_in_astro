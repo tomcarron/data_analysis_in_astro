{
 "cells": [
  {
   "cell_type": "markdown",
   "metadata": {},
   "source": [
    "# Exercise Set 1\n",
    "\n",
    "Due: **10:00 11 April 2022**\n",
    "\n",
    "Discussion: **13:00 22 August 2022**\n",
    "\n",
    "**Online submission** at via [ILIAS](https://www.ilias.uni-koeln.de/ilias/goto_uk_exc_4593683.html) in the directory Exercises / Übungen -> Submission of Exercises / Rückgabe des Übungsblätter"
   ]
  },
  {
   "cell_type": "markdown",
   "metadata": {
    "tags": []
   },
   "source": [
    "# 1. Sampling [100 points]\n",
    "\n",
    "The Behavioral Risk Factor Surveillance System (BRFSS) is an annual telephone survey of 350,000 people in the United States. As its\n",
    "name implies, the BRFSS is designed to identify risk factors in the adult population and report emerging health trends. For example,\n",
    "respondents are asked about their diet and weekly physical activity, their HIV/AIDS status, possible tobacco use, and even their level of\n",
    "healthcare coverage. The BRFSS Web site (http://www.cdc.gov/brfss) contains a complete description of the survey, including the research\n",
    "questions that motivate the study and many interesting results derived from the data."
   ]
  },
  {
   "cell_type": "markdown",
   "metadata": {},
   "source": [
    "## Download the ASCII data file from the course web site (Name: `cdbrfss1999.zip`)\n",
    "\n",
    "The file `Codebook99.rtf` contains a detailed explanation of the individual data entries. Use the\n",
    "Cookbook to understand the data columns that you are working on in this problem."
   ]
  },
  {
   "cell_type": "markdown",
   "metadata": {},
   "source": [
    "## Large data\n",
    "\n",
    "The dataset contains 159989 entries."
   ]
  },
  {
   "cell_type": "markdown",
   "metadata": {},
   "source": [
    "**a.** Take a sample of 30000 from this dataset and export it to an ASCII file. Make sure that your method allows to draw more than one sample from the population. **[5 points]**"
   ]
  },
  {
   "cell_type": "markdown",
   "metadata": {},
   "source": [
    "**b.** Discuss your method to do so. Is your sampling a \"good sample\" in the sense that it is representative for the larger \"population\"? **[10 points]**"
   ]
  },
  {
   "cell_type": "markdown",
   "metadata": {},
   "source": [
    "## Large columns\n",
    "\n",
    "Each case in the dataset can have up to 241 variables. Each one of these variables corresponds to a question that was asked in the survey. For example, for **genhlth**, respondents were asked to evaluate their general health, responding either excellent, very good, good, fair or poor. The **exerany** variable indicates whether the respondent exercised in the past month (1) or did not (0). Likewise, **hlthplan** indicates whether the respondent had some form of health coverage (1) or did not (0). The **smoke100** variable indicates whether the respondent had smoked at least 100 cigarettes in her lifetime. The other variables record the respondent’s height in inches (**hti**) and feet (**htf**), **weight** in pounds as well as their desired weight, **wtdesire**, **age** in years, and **sex**."
   ]
  },
  {
   "cell_type": "markdown",
   "metadata": {},
   "source": [
    "**a.** Locate the columns corresponding to the variables **genhlth**, **exerany**, **htf**, **hti**, **smoke100**, **weight**, **wtdesire**, **age**, and **sex**."
   ]
  },
  {
   "cell_type": "markdown",
   "metadata": {
    "slideshow": {
     "slide_type": "-"
    },
    "tags": [
     "problem_sheet"
    ]
   },
   "source": [
    "**b.** Reduce your sample to include only these variables and export it to an ASCII file. **[5 points]**"
   ]
  },
  {
   "cell_type": "markdown",
   "metadata": {},
   "source": [
    "**c.** How many cases and how many variables are there in your sample? **[5 points]**\n",
    "\n",
    "- (a) 9 cases; 30,000 variables\n",
    "\n",
    "- (b) 8 cases; 30,000 variables\n",
    "\n",
    "- (c) 30,000 cases; 9 variables\n",
    "\n",
    "- (d) 159,989 cases; 10 variables"
   ]
  },
  {
   "cell_type": "markdown",
   "metadata": {},
   "source": [
    "**d.** What type of variable is **genhlth**? **[5 points]**\n",
    "\n",
    "- (a) numerical, continuous\n",
    "\n",
    "- (b) numerical, discrete\n",
    "\n",
    "- (c) categorical (not ordinal)\n",
    "\n",
    "- (d) categorical, ordinal"
   ]
  },
  {
   "cell_type": "markdown",
   "metadata": {},
   "source": [
    "**e.** What type of variable is **weight**? **[5 points]**\n",
    "\n",
    "- (a) numerical, continuous\n",
    "\n",
    " - (b) numerical, discrete\n",
    "\n",
    " - (c) categorical (not ordinal)\n",
    "\n",
    " - (d) categorical, ordinal"
   ]
  },
  {
   "cell_type": "markdown",
   "metadata": {},
   "source": [
    "**f.** What type of variable is **smoke100**? **[5 points]**\n",
    "\n",
    " - (a) numerical, continuous\n",
    " \n",
    " - (b) numerical, discrete\n",
    " \n",
    " - (c) categorical (not ordinal)\n",
    " \n",
    " - (d) categorical, ordinal"
   ]
  },
  {
   "cell_type": "markdown",
   "metadata": {},
   "source": [
    "## One Bar chart\n",
    "\n",
    "Take all **genhlth** entries from your sample and draw a bar chart to visualize how the cases are distributed across the possible categories. **[10 points]**"
   ]
  },
  {
   "cell_type": "markdown",
   "metadata": {},
   "source": [
    "## Two Bar Charts\n",
    "\n",
    "Combine the **smoke100** with the **genhlth** entries from your sample and draw *two* bar charts, one showing the health of the smokers and a second one showing the health of the non-smokers. **[20 points]**"
   ]
  },
  {
   "cell_type": "markdown",
   "metadata": {},
   "source": [
    "## BMI\n",
    "\n",
    "Next let’s consider a new variable **bmi** that doesn’t show up directly in this data set: Body Mass Index (BMI).  **[30 points]**\n",
    "\n",
    "BMI is a weight to height ratio and can be calculated as.\n",
    "\n",
    "$$  \\mathrm{BMI} = \\frac{\\mathrm{weight(lb)}}{\\mathrm{height(in)}^2} * 703$$\n",
    "\n",
    "703 is the approximate conversion factor to change units to metric (meters and kilograms)\n",
    "from imperial (inches and pounds). Compute the bmi for each case in your sample and add it to\n",
    "the sample (e.g. as additional column). Visualize the distribution of the BMI in your sample.\n",
    "\n",
    "**ATTENTION**: Remember, that the height was given in feet and inches separately. make sure\n",
    "to compute the total height in inches!"
   ]
  }
 ],
 "metadata": {
  "date": "",
  "kernelspec": {
   "display_name": "Python 3 (ipykernel)",
   "language": "python",
   "name": "python3"
  },
  "language_info": {
   "codemirror_mode": {
    "name": "ipython",
    "version": 3
   },
   "file_extension": ".py",
   "mimetype": "text/x-python",
   "name": "python",
   "nbconvert_exporter": "python",
   "pygments_lexer": "ipython3",
   "version": "3.9.7"
  },
  "title": ""
 },
 "nbformat": 4,
 "nbformat_minor": 4
}
