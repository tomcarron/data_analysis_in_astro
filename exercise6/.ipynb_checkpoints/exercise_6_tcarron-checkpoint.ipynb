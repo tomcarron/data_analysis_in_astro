{
 "cells": [
  {
   "cell_type": "markdown",
   "metadata": {},
   "source": [
    "# Exercise Set 6\n",
    "\n",
    "Due: **9:30 16 May 2022**\n",
    "\n",
    "Discussion: **13:00 20 May 2022**\n",
    "\n",
    "**Online submission** at via [ILIAS](https://www.ilias.uni-koeln.de/ilias/goto_uk_exc_4593683.html) in the directory Exercises / Übungen -> Submission of Exercises / Rückgabe des Übungsblätter"
   ]
  },
  {
   "cell_type": "code",
   "execution_count": 51,
   "metadata": {},
   "outputs": [],
   "source": [
    "import numpy as np\n",
    "import matplotlib.pyplot as plt\n",
    "import scipy.stats as st\n",
    "import scipy\n",
    "from scipy.stats import chi2_contingency\n",
    "from scipy.stats import chi2"
   ]
  },
  {
   "cell_type": "markdown",
   "metadata": {},
   "source": [
    "# 1. *Kepler* [60 points]"
   ]
  },
  {
   "cell_type": "markdown",
   "metadata": {},
   "source": [
    "The [*Kepler* mission](https://keplerscience.arc.nasa.gov/science.html) was a planet-hunting mission from 2009-2018, during which time it observed thousands of stars to search for periodic variability."
   ]
  },
  {
   "cell_type": "markdown",
   "metadata": {},
   "source": [
    " > **a)** *Kepler* observed 306604 stars in its lifetime, 3664 of which were identified as candidates for hosting a planet. In total, there were 9564 planet candidates (called Kepler Objects of Interest or KOI) including 4847 false positives. Assume that an object identified as a candidate by *Kepler* has a 50% chance of being a false positive if we account the relevant physics. Do the results from *Kepler* suggest that we accounted for all of the physics? What are the null and alternative hypotheses? Make the relevant plots, including the shaded regions of interest. **30 points**"
   ]
  },
  {
   "cell_type": "code",
   "execution_count": 44,
   "metadata": {},
   "outputs": [
    {
     "name": "stdout",
     "output_type": "stream",
     "text": [
      "0.4932036804684232  = sample proportion\n",
      "z =  -1.3293017257981616\n",
      "cv =  1.6448536269514722\n"
     ]
    }
   ],
   "source": [
    "#number of keppler objects of interest\n",
    "num_koi=9564\n",
    "#number of false positives\n",
    "num_false_pos=4847\n",
    "#probability of a false positive\n",
    "prob=0.5\n",
    "#sample proportion\n",
    "p_sam=(1-(num_false_pos/num_koi))\n",
    "print(p_sam, \" = sample proportion\")\n",
    "#standard error\n",
    "SE=np.sqrt(prob*(1-prob)/num_koi)\n",
    "#Test statistic\n",
    "z=(p_sam-prob)/SE\n",
    "print(\"z = \", z)\n",
    "#confidence interval\n",
    "alpha=0.05\n",
    "cv=st.norm.ppf(1-alpha)\n",
    "print(\"cv = \",cv)"
   ]
  },
  {
   "cell_type": "code",
   "execution_count": 45,
   "metadata": {
    "scrolled": true
   },
   "outputs": [
    {
     "data": {
      "text/plain": [
       "[<matplotlib.lines.Line2D at 0x7f3bfd874490>]"
      ]
     },
     "execution_count": 45,
     "metadata": {},
     "output_type": "execute_result"
    },
    {
     "data": {
      "image/png": "[encoded data removed]",
      "text/plain": [
       "<Figure size 432x288 with 1 Axes>"
      ]
     },
     "metadata": {
      "needs_background": "light"
     },
     "output_type": "display_data"
    }
   ],
   "source": [
    "plt.figure(0)\n",
    "plt.fill_between(x=np.arange(-4,-cv,0.01), y1 = st.norm.pdf(np.arange(-4,-cv,0.01)),facecolor ='g',alpha =0.35)\n",
    "plt.plot(np.arange(-4,4,0.01),st.norm.pdf(np.arange(-4,4,0.01)))\n",
    "plt.fill_between(x=np.arange(cv,4,0.01), y1 = st.norm.pdf(np.arange(cv,4,0.01)),facecolor ='g',alpha =0.35)\n",
    "plt.plot(np.full_like(np.zeros(10),z),np.linspace(0,st.norm.pdf(z),10),color=\"purple\")\n",
    "plt.plot(np.full_like(np.zeros(10),-z),np.linspace(0,st.norm.pdf(z),10),color=\"purple\")"
   ]
  },
  {
   "cell_type": "code",
   "execution_count": 46,
   "metadata": {},
   "outputs": [],
   "source": [
    "#What are the null and alternative hypothesis?\n",
    "#Null hypothesis p=0.5\n",
    "#Alternative hypothesis p>0.5 or p<0.5\n",
    "#Do the hypothesis test"
   ]
  },
  {
   "cell_type": "markdown",
   "metadata": {},
   "source": [
    " > **b)** *Kepler* observed 8 planets within the habitable zone. Knowing that 6 of these planets orbit Sun-like stars while the others orbit red dwarfs, can you determine if a correlation must exist between stellar type and the occurance of an Earth-analogue planet? Show the simulation results. What is the probability of observing the planets we did? **30 points**"
   ]
  },
  {
   "cell_type": "code",
   "execution_count": 47,
   "metadata": {},
   "outputs": [],
   "source": [
    "sun_like=0.75\n",
    "red_dwarfs=0.25"
   ]
  },
  {
   "cell_type": "markdown",
   "metadata": {},
   "source": [
    "# 2. Small sample proportions [40 points]"
   ]
  },
  {
   "cell_type": "markdown",
   "metadata": {},
   "source": [
    "There was a survey to determine if people were satisfied with their life, and it cross-referenced this with their income. The data is as follows:\n",
    "\n",
    "| **GDP**     | less than €5000 | between €5000 and €50000 | more than €50000 |\n",
    "| ----------: | ---------------: | -------------------------: | ----------------: |\n",
    "| Satisfied   | 18               | 62                         | 6                 |\n",
    "| Unsatisfied | 20               | 34                         | 3                 |\n",
    "\n",
    "Use a $\\chi^2$ test to determine if there is a correlation between income and general life satisfaction. Make the relevant plots. **40 points**"
   ]
  },
  {
   "cell_type": "code",
   "execution_count": 48,
   "metadata": {},
   "outputs": [
    {
     "name": "stdout",
     "output_type": "stream",
     "text": [
      "p value is 0.17065308496298592\n",
      "Independent (H0 holds true)\n"
     ]
    }
   ],
   "source": [
    "#sample size less than 5000\n",
    "#n_lt=38\n",
    "#sample size between 5000 and 50000\n",
    "#n_bt=96\n",
    "#sample size more than 50000\n",
    "#n_mt=9\n",
    "\n",
    "# defining the table\n",
    "data = [[18, 62, 6], [20, 34, 3]]\n",
    "stat, p, dof, expected = chi2_contingency(data)\n",
    "  \n",
    "# interpret p-value\n",
    "alpha = 0.05\n",
    "print(\"p value is \" + str(p))\n",
    "if p <= alpha:\n",
    "    print('Dependent (reject H0)')\n",
    "else:\n",
    "    print('Independent (H0 holds true)')"
   ]
  },
  {
   "cell_type": "code",
   "execution_count": 53,
   "metadata": {},
   "outputs": [
    {
     "data": {
      "text/plain": [
       "[<matplotlib.lines.Line2D at 0x7f3bfd7b36a0>]"
      ]
     },
     "execution_count": 53,
     "metadata": {},
     "output_type": "execute_result"
    },
    {
     "data": {
      "image/png": "[encoded data removed]",
      "text/plain": [
       "<Figure size 432x288 with 1 Axes>"
      ]
     },
     "metadata": {
      "needs_background": "light"
     },
     "output_type": "display_data"
    }
   ],
   "source": [
    "#plots\n",
    "#x-axis ranges from 0 to 20 with .001 steps\n",
    "x = np.arange(0, 20, 0.001)\n",
    "plt.figure()\n",
    "plt.plot(x, chi2.pdf(x, df=dof))"
   ]
  }
 ],
 "metadata": {
  "kernelspec": {
   "display_name": "Python 3",
   "language": "python",
   "name": "python3"
  },
  "language_info": {
   "codemirror_mode": {
    "name": "ipython",
    "version": 3
   },
   "file_extension": ".py",
   "mimetype": "text/x-python",
   "name": "python",
   "nbconvert_exporter": "python",
   "pygments_lexer": "ipython3",
   "version": "3.8.5"
  }
 },
 "nbformat": 4,
 "nbformat_minor": 4
}
