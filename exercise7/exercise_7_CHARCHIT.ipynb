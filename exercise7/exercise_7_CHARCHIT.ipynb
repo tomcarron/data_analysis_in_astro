{
 "cells": [
  {
   "cell_type": "markdown",
   "metadata": {
    "tags": []
   },
   "source": [
    "# Exercise Set 7\n",
    "\n",
    "Due: **9:30 23 May 2022**\n",
    "\n",
    "Discussion: **13:00 27 May 2022**\n",
    "\n",
    "**Online submission** at via [ILIAS](https://www.ilias.uni-koeln.de/ilias/goto_uk_exc_4593683.html) in the directory Exercises / Übungen -> Submission of Exercises / Rückgabe des Übungsblätter"
   ]
  },
  {
   "cell_type": "markdown",
   "metadata": {},
   "source": [
    "# 1. Kendall's tau coefficient [40 Points]"
   ]
  },
  {
   "cell_type": "markdown",
   "metadata": {},
   "source": [
    "In statistics, the Kendall rank correlation coefficient, commonly referred to as Kendall’s tau coefficient (after the Greek letter $\\tau$), is a statistic used to measure the ordinal association between two measured quantities. A tau test is a non-parametric hypothesis test for statistical dependence based on the tau coefficient. Spearman’s rank correlation is satisfactory for testing a null hypothesis of independence between two variables but it is difficult to interpret when the null hypothesis is rejected. Kendall’s rank correlation improves upon this by reflecting the strength of the dependence between the variables being compared.\n",
    "\n",
    "Consider two samples, $x$ and $y$, each of size $n$. The total number of possible pairings of $x$ with $y$ observations is $\\frac{n(n-1)}{2}$. Now consider pairs of ordered observations $(x_i, y_i)$ and $(x_j, y_j)$ with $i=1,\\ldots n-1$ and $j=i+1,\\ldots, n$. Then $x_1 \\leq x_2 \\leq \\ldots \\leq x_n$. Now pair $1$ is compared with every other pair $(2,3,,,n)$, Pair $2$ with all following pairs $(3,4,,,n)$ and so on. In total $\\frac{n(n-1)}{2}$ pairs are compared. If for a pair:\n",
    "\n",
    "- $x_i<x_j$ and $y_i<y_j$, it is concordant\n",
    "- $x_i<x_j$ and $y_i>y_j$, it is disconcordant\n",
    "- $x_i \\ne x_j$ and $y_i=y_j$, it has a binding in $Y$\n",
    "- $x_i = x_j$ and $y_i\\ne y_j$, it has a binding in $X$\n",
    "- $x_i = x_j$ and $y_i=y_j$, it has a binding in $X$ and $Y$\n",
    "\n",
    "\\newpage\n",
    "\n",
    "The number of pairs that are:\n",
    "\n",
    "- concordant are $C$\n",
    "- disconcordant are $D$\n",
    "- having a binding in $Y$ are $T_Y$\n",
    "- having a binding in $X$ are $T_X$\n",
    "- having a binding in $X$ and $Y$ are $T_{XY}$\n",
    "\n",
    "Kendall's tau value compares the number of concordant and disconcordant pairs:\n",
    "\n",
    "$\\tau = \\dfrac{C-D}{\\sqrt{(C+D+T_X)(C+D+T_Y)}}$\n",
    "\n",
    "The denominator is the total number of pair combinations, so the coefficient must be in the range $-1 \\leq \\tau \\leq 1$. If the agreement between the two rankings is perfect (when the two rankings are the same) the coefficient has value $1$. If the disagreement between the two rankings is perfect (when one ranking is the reverse of the other) the coefficient has value $-1$.\n",
    "\n",
    "Use the data file `hubble.dat`, which includes dataset $x$ in the first column and dataset $y$ in the second column."
   ]
  },
  {
   "cell_type": "markdown",
   "metadata": {},
   "source": [
    "**a.** Take the data and reorder it such that $x_1 \\leq x_2 \\leq \\ldots \\leq x_n$. **10 Points**"
   ]
  },
  {
   "cell_type": "code",
   "execution_count": 4,
   "metadata": {},
   "outputs": [
    {
     "name": "stdout",
     "output_type": "stream",
     "text": [
      "       x\n",
      "0   0.03\n",
      "1   0.04\n",
      "2   0.19\n",
      "3   0.25\n",
      "4   0.26\n",
      "5   0.27\n",
      "6   0.42\n",
      "7   0.50\n",
      "8   0.50\n",
      "9   0.63\n",
      "10  0.79\n",
      "11  0.88\n",
      "12  0.89\n",
      "13  0.89\n",
      "14  0.91\n",
      "15  1.01\n",
      "16  1.10\n",
      "17  1.11\n",
      "18  1.42\n",
      "19  1.70\n",
      "20  2.01\n",
      "21  2.02\n",
      "22  2.02\n",
      "23  2.02          y\n",
      "0    -83.3\n",
      "1    111.1\n",
      "2     97.2\n",
      "3     27.8\n",
      "4   -208.3\n",
      "5    -69.4\n",
      "6    819.4\n",
      "7    819.4\n",
      "8    958.3\n",
      "9    666.7\n",
      "10   777.8\n",
      "11   888.9\n",
      "12   194.4\n",
      "13   430.6\n",
      "14  1222.2\n",
      "15  1736.1\n",
      "16  1472.2\n",
      "17  1166.7\n",
      "18  1263.9\n",
      "19  2111.1\n",
      "20  1611.1\n",
      "21  1763.9\n",
      "22  1111.1\n",
      "23  2250.0\n"
     ]
    }
   ],
   "source": [
    "import pandas as pd\n",
    "import numpy as np\n",
    "data=pd.read_csv(\"hubble.dat\",delimiter=\"\\s+\",header=None,index_col=None,names=[\"x\",\"y\"])\n",
    "# print(data)\n",
    "x_sorted = data.sort_values([\"x\"], ascending=True,ignore_index=True)\n",
    "x=x_sorted.filter(['x'])\n",
    "y=x_sorted.filter(['y'])\n",
    "print(x,y)\n"
   ]
  },
  {
   "cell_type": "markdown",
   "metadata": {},
   "source": [
    "**b.** Compute the number of concordant pairs $C$, disconcordant pairs $D$, bound pairs $T_X$, $T_Y$, and $T_{XY}$. **10 Points**"
   ]
  },
  {
   "cell_type": "code",
   "execution_count": null,
   "metadata": {},
   "outputs": [
    {
     "name": "stdout",
     "output_type": "stream",
     "text": [
      "226\n"
     ]
    }
   ],
   "source": [
    "# Concordant pairs\n",
    "from itertools import combinations                 \n",
    "x=x_sorted.filter(['x'])\n",
    "x=np.array(x).flatten()\n",
    "# print(x)\n",
    "y=x_sorted.filter(['y'])\n",
    "y=np.array(y).flatten()\n",
    "# print(y)\n",
    "a=list(combinations(x,2))\n",
    "b=list(combinations(y,2))\n",
    "# print(b)\n",
    "[\"a<b\" if a<b else \"a>b\" for a,b in combinations(x,2)]\n",
    "[\"a<b\" if a<b else \"a>b\" for a,b in combinations(y,2)]\n",
    "zip([\"a<b\" if a<b else \"a>b\" for a,b in combinations(x,2)],[\"a<b\" if a<b else \"a>b\" for a,b in combinations(y,2)])\n",
    "[1 if v1==v2 else 0 for v1,v2 in zip(('a<b' if a<b else \"a>b\" for a,b in combinations(x,2)), ('a<b' if a<b else \"a>b\" for a,b in combinations(y,2)))]\n",
    "\n",
    "concordance_count = sum(1 if v1==v2 else 0 for v1,v2 in zip(('a<b' if a<b else \"a>b\" for a,b in combinations(x,2)), ('a<b' if a<b else \"a>b\" for a,b in combinations(y,2))))\n",
    "print(concordance_count)"
   ]
  },
  {
   "cell_type": "code",
   "execution_count": null,
   "metadata": {},
   "outputs": [
    {
     "name": "stdout",
     "output_type": "stream",
     "text": [
      "227\n"
     ]
    }
   ],
   "source": [
    "[\"a<b\" if a<b else \"a>b\" for a,b in combinations(x,2)]\n",
    "[\"a>b\" if a>b else \"a<b\" for a,b in combinations(y,2)]\n",
    "zip([\"a<b\" if a<b else \"a>b\" for a,b in combinations(x,2)],[\"a>b\" if a>b else \"a<b\" for a,b in combinations(y,2)])\n",
    "[1 if v1==v2 else 0 for v1,v2 in zip([\"a<b\" if a<b else \"a>b\" for a,b in combinations(x,2)],[\"a>b\" if a>b else \"a<b\" for a,b in combinations(y,2)])]\n",
    "\n",
    "disconcordance_count = sum(1 if v1==v2 else 0 for v1,v2 in zip([\"a<b\" if a<b else \"a>b\" for a,b in combinations(x,2)],[\"a>b\" if a>b else \"a<b\" for a,b in combinations(y,2)]))\n",
    "print(disconcordance_count)"
   ]
  },
  {
   "cell_type": "code",
   "execution_count": null,
   "metadata": {},
   "outputs": [
    {
     "name": "stdout",
     "output_type": "stream",
     "text": [
      "270\n"
     ]
    }
   ],
   "source": [
    "[\"a!=b\" if a!=b else \"a=b\" for a,b in combinations(x,2)]\n",
    "[\"a=b\" if a==b else \"a!=b\" for a,b in combinations(y,2)]\n",
    "zip([\"a!=b\" if a!=b else \"a=b\" for a,b in combinations(x,2)],[\"a=b\" if a==b else \"a!=b\" for a,b in combinations(y,2)])\n",
    "[1 if v1==v2 else 0 for v1,v2 in zip([\"a!=b\" if a!=b else \"a=b\" for a,b in combinations(x,2)],[\"a=b\" if a==b else \"a!=b\" for a,b in combinations(y,2)])]\n",
    "\n",
    "binding_in_y = sum(1 if v1==v2 else 0 for v1,v2 in zip([\"a!=b\" if a!=b else \"a=b\" for a,b in combinations(x,2)],[\"a=b\" if a==b else \"a!=b\" for a,b in combinations(y,2)]))\n",
    "print(binding_in_y)"
   ]
  },
  {
   "cell_type": "code",
   "execution_count": null,
   "metadata": {},
   "outputs": [
    {
     "name": "stdout",
     "output_type": "stream",
     "text": [
      "270\n"
     ]
    }
   ],
   "source": [
    "p=[\"a=b\" if a==b else \"a!=b\" for a,b in combinations(x,2)]\n",
    "q=[\"a!=b\" if a!=b else \"a=b\" for a,b in combinations(y,2)]\n",
    "r=zip(p,q)\n",
    "s=[1 if v1==v2 else 0 for v1,v2 in r]\n",
    "\n",
    "binding_in_x = sum(s)\n",
    "print(binding_in_x)"
   ]
  },
  {
   "cell_type": "code",
   "execution_count": null,
   "metadata": {},
   "outputs": [
    {
     "name": "stdout",
     "output_type": "stream",
     "text": [
      "270\n"
     ]
    }
   ],
   "source": [
    "p=[\"a=b\" if a==b else \"a!=b\" for a,b in combinations(x,2)]\n",
    "q=[\"a=b\" if a==b else \"a!=b\" for a,b in combinations(y,2)]\n",
    "r=zip(p,q)\n",
    "s=[1 if v1==v2 else 0 for v1,v2 in r]\n",
    "\n",
    "binding_in_xy = sum(s)\n",
    "print(binding_in_xy)"
   ]
  },
  {
   "cell_type": "code",
   "execution_count": null,
   "metadata": {},
   "outputs": [
    {
     "name": "stdout",
     "output_type": "stream",
     "text": [
      "Kendall Rank correlation: 0.65936\n"
     ]
    }
   ],
   "source": [
    "from scipy.stats import kendalltau\n",
    "corr, _ = kendalltau(x, y)\n",
    "print('Kendall Rank correlation: %.5f' % corr)"
   ]
  },
  {
   "cell_type": "markdown",
   "metadata": {},
   "source": [
    "**c.** Compute $\\tau$. **10 Points**"
   ]
  },
  {
   "cell_type": "markdown",
   "metadata": {},
   "source": [
    "**d.** How should the derived $\\tau$ be interpreted (what does it tell about the two datasets)? Plot the dataset $x$ vs. $y$ and compare it with $\\tau$ **10 Points**"
   ]
  },
  {
   "cell_type": "markdown",
   "metadata": {},
   "source": [
    "# 2. Permutation tests [40 Points]"
   ]
  },
  {
   "cell_type": "markdown",
   "metadata": {},
   "source": [
    "This exercise uses the data file `4point2.dat`. The data in the file are 20 uncorrelated $(x,y)$ pairs, followed by 20 correlated pairs."
   ]
  },
  {
   "cell_type": "markdown",
   "metadata": {},
   "source": [
    "**a.** Take the uncorrelated pairs $(x,y)$ and compute the values for the Kendall and Spearman rank correlation coefficients and the Peason/Fischer r correlation coefficient. Why are they different? **20 Points**\n",
    " \n",
    " > (This is a good example why we should not blindly rely on the Peason's correlation coefficient)"
   ]
  },
  {
   "cell_type": "markdown",
   "metadata": {},
   "source": [
    "**b.** By permutation methods we want to derive distributions of Fisher $r$, Spearman’s and Kendall’s statistics. To do this, first we take the uncorrelated data set and randomly assign $x$-values to $y$-values to make new pairs. This should give the range of values of the test statistic which are consistent with there being no correlation. There are $20!$ distinct permutations for even this little dataset. Compute your results for 1000 of these at random. (This is achieved by sampling without replacement from the set of 20 $X$'s and assigning each one in order to the set of $Y$'s) For each of the 1000 random samples compute their Fisher $r$ value, Spearman’s and Kendall’s statistics and plot their cumulative distributions. Explain what the obtained plots tell. **20 Points**"
   ]
  },
  {
   "cell_type": "markdown",
   "metadata": {},
   "source": [
    "**c.** Now take the correlated set of data and do the same as **b)**. Interprete the results with comparing the plots of uncorrelated datasets. **20 Points**"
   ]
  }
 ],
 "metadata": {
  "interpreter": {
   "hash": "35455d277cc69279d69bd3d2fff07608906c78ad9fde0fa493e6ee7e737d810e"
  },
  "kernelspec": {
   "display_name": "Python 3.8.5 ('base')",
   "language": "python",
   "name": "python3"
  },
  "language_info": {
   "codemirror_mode": {
    "name": "ipython",
    "version": 3
   },
   "file_extension": ".py",
   "mimetype": "text/x-python",
   "name": "python",
   "nbconvert_exporter": "python",
   "pygments_lexer": "ipython3",
   "version": "3.8.5"
  }
 },
 "nbformat": 4,
 "nbformat_minor": 4
}
