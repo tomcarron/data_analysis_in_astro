{
 "cells": [
  {
   "cell_type": "markdown",
   "id": "ca6e3288-91c6-446d-874b-1aaae2dd6066",
   "metadata": {},
   "source": [
    "# Principal Component Analysis - PCA"
   ]
  },
  {
   "cell_type": "markdown",
   "id": "14a7bad0-2bba-431f-8b77-b9065704139a",
   "metadata": {},
   "source": [
    "**a.** Set up a simple 2-dim correlation. (i.e. The pairs of $(x,y)$ are designed as a bivariate Gaussian correlation.) use less than 100 pairs, but a reasonbable degree of correlation $(\\rho > 0.5)$. Provide a file with your created data together with the solution!"
   ]
  },
  {
   "cell_type": "code",
   "execution_count": 12,
   "id": "30eca402",
   "metadata": {},
   "outputs": [],
   "source": [
    "import numpy as np\n",
    "import pandas as pd\n",
    "import matplotlib.pyplot as plt \n",
    "import seaborn as sb\n",
    "import scipy.stats as st"
   ]
  },
  {
   "cell_type": "code",
   "execution_count": 34,
   "id": "7e581473",
   "metadata": {},
   "outputs": [],
   "source": [
    "#2D correlation ie 50 pairs of x,y bivariate gaussian correlation with rho>0.5\n",
    "N=30 #length \n",
    "mean = [0, 0]\n",
    "cov = [[0.3, 0], [0, 100]]\n",
    "distr = np.random.multivariate_normal(cov = cov, mean = mean,size=(2,N))"
   ]
  },
  {
   "cell_type": "code",
   "execution_count": null,
   "id": "15ebf7bc",
   "metadata": {},
   "outputs": [],
   "source": []
  },
  {
   "cell_type": "markdown",
   "id": "68f1d7d4-c91f-4022-9cea-cfe887e0dc3a",
   "metadata": {},
   "source": [
    "**b.**  Find the PCA's first geometrically, by rotating the axis to minimize/maximize variances, and then through determining the eigenvalues and eigenvectors of the covariance matrix. Discuss the both approaches."
   ]
  },
  {
   "cell_type": "markdown",
   "id": "ad5bf3ac-dab6-4ceb-b4f5-ade01dfd7f92",
   "metadata": {},
   "source": [
    "**c.** Consider robustness: try to fool the PCA by throwing in outliers, or even by superposing two blobs of points to see how PCA performs and under what conditions it produces believable answers."
   ]
  },
  {
   "cell_type": "markdown",
   "id": "7b3031eb-859c-4d87-a3a6-4de07438cf8e",
   "metadata": {},
   "source": [
    "**d.** Use bootstrap tests to estimate errors on eigenvalues. Relate these errors to errors anticipated given the input data."
   ]
  }
 ],
 "metadata": {
  "interpreter": {
   "hash": "35455d277cc69279d69bd3d2fff07608906c78ad9fde0fa493e6ee7e737d810e"
  },
  "kernelspec": {
   "display_name": "Python 3.8.5 ('base')",
   "language": "python",
   "name": "python3"
  },
  "language_info": {
   "codemirror_mode": {
    "name": "ipython",
    "version": 3
   },
   "file_extension": ".py",
   "mimetype": "text/x-python",
   "name": "python",
   "nbconvert_exporter": "python",
   "pygments_lexer": "ipython3",
   "version": "3.8.5"
  }
 },
 "nbformat": 4,
 "nbformat_minor": 5
}
