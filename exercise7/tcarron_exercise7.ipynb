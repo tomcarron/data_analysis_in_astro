{
 "cells": [
  {
   "cell_type": "markdown",
   "metadata": {
    "tags": []
   },
   "source": [
    "# Exercise Set 7\n",
    "\n",
    "Due: **9:30 23 May 2022**\n",
    "\n",
    "Discussion: **13:00 27 May 2022**\n",
    "\n",
    "**Online submission** at via [ILIAS](https://www.ilias.uni-koeln.de/ilias/goto_uk_exc_4593683.html) in the directory Exercises / Übungen -> Submission of Exercises / Rückgabe des Übungsblätter"
   ]
  },
  {
   "cell_type": "code",
   "execution_count": 2,
   "metadata": {},
   "outputs": [],
   "source": [
    "# import necessary packages\n",
    "import numpy as np\n",
    "import matplotlib.pyplot as plt\n",
    "import pandas as pd\n",
    "import scipy.stats as st\n",
    "import seaborn as sb"
   ]
  },
  {
   "cell_type": "markdown",
   "metadata": {},
   "source": [
    "# 1. Kendall's tau coefficient [40 Points]"
   ]
  },
  {
   "cell_type": "markdown",
   "metadata": {},
   "source": [
    "In statistics, the Kendall rank correlation coefficient, commonly referred to as Kendall’s tau coefficient (after the Greek letter $\\tau$), is a statistic used to measure the ordinal association between two measured quantities. A tau test is a non-parametric hypothesis test for statistical dependence based on the tau coefficient. Spearman’s rank correlation is satisfactory for testing a null hypothesis of independence between two variables but it is difficult to interpret when the null hypothesis is rejected. Kendall’s rank correlation improves upon this by reflecting the strength of the dependence between the variables being compared.\n",
    "\n",
    "Consider two samples, $x$ and $y$, each of size $n$. The total number of possible pairings of $x$ with $y$ observations is $\\frac{n(n-1)}{2}$. Now consider pairs of ordered observations $(x_i, y_i)$ and $(x_j, y_j)$ with $i=1,\\ldots n-1$ and $j=i+1,\\ldots, n$. Then $x_1 \\leq x_2 \\leq \\ldots \\leq x_n$. Now pair $1$ is compared with every other pair $(2,3,,,n)$, Pair $2$ with all following pairs $(3,4,,,n)$ and so on. In total $\\frac{n(n-1)}{2}$ pairs are compared. If for a pair:\n",
    "\n",
    "- $x_i<x_j$ and $y_i<y_j$, it is concordant\n",
    "- $x_i<x_j$ and $y_i>y_j$, it is disconcordant\n",
    "- $x_i \\ne x_j$ and $y_i=y_j$, it has a binding in $Y$\n",
    "- $x_i = x_j$ and $y_i\\ne y_j$, it has a binding in $X$\n",
    "- $x_i = x_j$ and $y_i=y_j$, it has a binding in $X$ and $Y$\n",
    "\n",
    "\\newpage\n",
    "\n",
    "The number of pairs that are:\n",
    "\n",
    "- concordant are $C$\n",
    "- disconcordant are $D$\n",
    "- having a binding in $Y$ are $T_Y$\n",
    "- having a binding in $X$ are $T_X$\n",
    "- having a binding in $X$ and $Y$ are $T_{XY}$\n",
    "\n",
    "Kendall's tau value compares the number of concordant and disconcordant pairs:\n",
    "\n",
    "$\\tau = \\dfrac{C-D}{\\sqrt{(C+D+T_X)(C+D+T_Y)}}$\n",
    "\n",
    "The denominator is the total number of pair combinations, so the coefficient must be in the range $-1 \\leq \\tau \\leq 1$. If the agreement between the two rankings is perfect (when the two rankings are the same) the coefficient has value $1$. If the disagreement between the two rankings is perfect (when one ranking is the reverse of the other) the coefficient has value $-1$.\n",
    "\n",
    "Use the data file `hubble.dat`, which includes dataset $x$ in the first column and dataset $y$ in the second column."
   ]
  },
  {
   "cell_type": "markdown",
   "metadata": {},
   "source": [
    "**a.** Take the data and reorder it such that $x_1 \\leq x_2 \\leq \\ldots \\leq x_n$. **10 Points**"
   ]
  },
  {
   "cell_type": "code",
   "execution_count": 3,
   "metadata": {},
   "outputs": [
    {
     "name": "stdout",
     "output_type": "stream",
     "text": [
      "       A       B\n",
      "0   0.04   111.1\n",
      "1   0.03   -83.3\n",
      "2   0.19    97.2\n",
      "3   0.25    27.8\n",
      "4   0.27   -69.4\n",
      "5   0.26  -208.3\n",
      "6   0.42   819.4\n",
      "7   0.50   819.4\n",
      "8   0.50   958.3\n",
      "9   0.63   666.7\n",
      "10  0.79   777.8\n",
      "11  0.89   194.4\n",
      "12  0.89   430.6\n",
      "13  0.88   888.9\n",
      "14  0.91  1222.2\n",
      "15  1.01  1736.1\n",
      "16  1.10  1472.2\n",
      "17  1.11  1166.7\n",
      "18  1.42  1263.9\n",
      "19  1.70  2111.1\n",
      "20  2.02  1111.1\n",
      "21  2.01  1611.1\n",
      "22  2.02  1763.9\n",
      "23  2.02  2250.0\n"
     ]
    }
   ],
   "source": [
    "df = pd.read_csv(\"hubble.dat\", delimiter=\"\\s+\", names=[\"A\", \"B\"])\n",
    "# sort \"A\" into ascending order\n",
    "a = np.sort(df[\"A\"].to_numpy())\n",
    "b = df[\"B\"].to_numpy()\n",
    "print(df)"
   ]
  },
  {
   "cell_type": "markdown",
   "metadata": {},
   "source": [
    "**b.** Compute the number of concordant pairs $C$, disconcordant pairs $D$, bound pairs $T_X$, $T_Y$, and $T_{XY}$. **10 Points**"
   ]
  },
  {
   "cell_type": "code",
   "execution_count": 4,
   "metadata": {},
   "outputs": [],
   "source": [
    "# Function that takes a and b as an argument and returns C,D,T_y,T_x and T_xy.\n",
    "def count_pairs(a, b):\n",
    "    # numbers of each pair type to be incremented\n",
    "    c = 0\n",
    "    d = 0\n",
    "    ty = 0\n",
    "    tx = 0\n",
    "    txy = 0\n",
    "    # loop over all pairs\n",
    "    for i in range(len(a) - 1):\n",
    "        pair1 = [a[i], b[i]]  # set the first pair\n",
    "        # print(\"i\",i)\n",
    "        j = i + 1\n",
    "        # loop over all pairs greater than first pair\n",
    "        while j < len(a):\n",
    "            # print(\"j\",j)\n",
    "            pair2 = [a[j], b[j]]  # set the second pair\n",
    "            # Check conditions for concordance/binding and increment counters\n",
    "            if pair1[0] < pair2[0] and pair1[1] < pair2[1]:\n",
    "                c += 1\n",
    "            elif pair1[0] < pair2[0] and pair1[1] > pair2[1]:\n",
    "                d += 1\n",
    "            elif pair1[0] != pair2[0] and pair1[1] == pair2[1]:\n",
    "                ty += 1\n",
    "            elif pair1[0] == pair2[0] and pair1[1] != pair2[1]:\n",
    "                tx += 1\n",
    "            elif pair1[0] == pair2[0] and pair1[1] == pair2[1]:\n",
    "                txy += 1\n",
    "            else:\n",
    "                print(\"oops\")\n",
    "            j = j + 1\n",
    "    return c, d, ty, tx, txy"
   ]
  },
  {
   "cell_type": "code",
   "execution_count": 5,
   "metadata": {},
   "outputs": [
    {
     "name": "stdout",
     "output_type": "stream",
     "text": [
      "c, d, ty, tx, txy (226, 44, 1, 5, 0)\n"
     ]
    }
   ],
   "source": [
    "print(\"c, d, ty, tx, txy\", count_pairs(a, b))"
   ]
  },
  {
   "cell_type": "markdown",
   "metadata": {},
   "source": [
    "**c.** Compute $\\tau$. **10 Points**"
   ]
  },
  {
   "cell_type": "markdown",
   "metadata": {},
   "source": [
    "Here I compute $\\tau$ = 0.666"
   ]
  },
  {
   "cell_type": "code",
   "execution_count": 6,
   "metadata": {},
   "outputs": [],
   "source": [
    "# Function to compute Kendall's tau value given arrays a and b\n",
    "def kendall_tau(a, b):\n",
    "    # calculate c, d, ty, tx, txy for a and b\n",
    "    c, d, ty, tx, txy = count_pairs(a, b)\n",
    "    # compute numerator\n",
    "    numer = c - d\n",
    "    # compute denominator\n",
    "    denom = np.sqrt((c + d + tx) * (c + d + ty))\n",
    "    # compute tau\n",
    "    tau = numer / denom\n",
    "    return tau\n",
    "\n",
    "\n",
    "# I have just realised there is also scipy.stats.kendalltau ......"
   ]
  },
  {
   "cell_type": "code",
   "execution_count": 7,
   "metadata": {},
   "outputs": [
    {
     "name": "stdout",
     "output_type": "stream",
     "text": [
      "tau= 0.6666845575146066\n",
      "ta2u= KendalltauResult(correlation=0.6666845575146064, pvalue=6.077846491041711e-06)\n"
     ]
    }
   ],
   "source": [
    "#printing both just to check\n",
    "print(\"tau=\", kendall_tau(a, b))\n",
    "tau = kendall_tau(a, b)\n",
    "tau2 = st.kendalltau(a, b)\n",
    "print(\"ta2u=\", tau2)"
   ]
  },
  {
   "cell_type": "markdown",
   "metadata": {},
   "source": [
    "**d.** How should the derived $\\tau$ be interpreted (what does it tell about the two datasets)? Plot the dataset $x$ vs. $y$ and compare it with $\\tau$ **10 Points**"
   ]
  },
  {
   "cell_type": "markdown",
   "metadata": {},
   "source": [
    "The $\\tau$ value tells us about the correlation between x and y. The plot of x and y shows a moderate positive correlation as one would expect for $\\tau$ = 0.666"
   ]
  },
  {
   "cell_type": "code",
   "execution_count": 8,
   "metadata": {},
   "outputs": [
    {
     "data": {
      "image/png": "[encoded data removed]",
      "text/plain": [
       "<Figure size 432x288 with 1 Axes>"
      ]
     },
     "metadata": {
      "needs_background": "light"
     },
     "output_type": "display_data"
    }
   ],
   "source": [
    "plt.figure()\n",
    "plt.scatter(a, b)\n",
    "plt.xlabel(\"x\")\n",
    "plt.ylabel(\"y\")\n",
    "plt.savefig(\"plots/xxy_tau.png\",dpi=400,bbox_inches=\"tight\")"
   ]
  },
  {
   "cell_type": "markdown",
   "metadata": {},
   "source": [
    "# 2. Permutation tests [40 Points]"
   ]
  },
  {
   "cell_type": "markdown",
   "metadata": {},
   "source": [
    "This exercise uses the data file `4point2.dat`. The data in the file are 20 uncorrelated $(x,y)$ pairs, followed by 20 correlated pairs."
   ]
  },
  {
   "cell_type": "code",
   "execution_count": 11,
   "metadata": {},
   "outputs": [
    {
     "name": "stdout",
     "output_type": "stream",
     "text": [
      "20 20\n"
     ]
    }
   ],
   "source": [
    "# read in and sort data\n",
    "df2 = pd.read_csv(\"4point2.dat\", delimiter=\",\", names=[\"x\", \"y\"])\n",
    "# uncorrelated\n",
    "df2_uncorr = df2.iloc[0:20]\n",
    "x_uncorr = df2_uncorr[\"x\"].to_numpy()\n",
    "y_uncorr = df2_uncorr[\"y\"].to_numpy()\n",
    "# correlated\n",
    "df2_corr = df2.iloc[20:40]\n",
    "x_corr = df2_corr[\"x\"].to_numpy()\n",
    "y_corr = df2_corr[\"y\"].to_numpy()\n",
    "#print(x_uncorr, y_uncorr)\n",
    "print(len(x_corr),len(x_uncorr))"
   ]
  },
  {
   "cell_type": "markdown",
   "metadata": {},
   "source": [
    "**a.** Take the uncorrelated pairs $(x,y)$ and compute the values for the Kendall and Spearman rank correlation coefficients and the Peason/Fischer r correlation coefficient. Why are they different? **20 Points**\n",
    " \n",
    " > (This is a good example why we should not blindly rely on the Peason's correlation coefficient)"
   ]
  },
  {
   "cell_type": "markdown",
   "metadata": {},
   "source": [
    "Below we computed the Kendall and Spearman rank correlation coefficients and the Pearson/Fisher r correlation coefficient. The Kendall and Spearman coefficients show very little correlation, while the Pearson/Fisher r coefficient shows a moderate positive linear correlation. Clearly the three coefficients do not agree. As the plot illustrates, the Pearson/Fisher r coefficient fails when there are outliers in the data."
   ]
  },
  {
   "cell_type": "code",
   "execution_count": null,
   "metadata": {},
   "outputs": [
    {
     "name": "stdout",
     "output_type": "stream",
     "text": [
      "------------------------------------------------\n",
      "uncorrelated:\n",
      "tau= KendalltauResult(correlation=-0.06315789473684211, pvalue=0.7246362205272812)\n",
      "spearman= SpearmanrResult(correlation=-0.08270676691729321, pvalue=0.7288508763559796)\n",
      "pearson/Fisher r= (0.4866552193293831, 0.02955758242994905)\n",
      "------------------------------------------------\n"
     ]
    },
    {
     "data": {
      "image/png": "[encoded data removed]",
      "text/plain": [
       "<Figure size 432x288 with 1 Axes>"
      ]
     },
     "metadata": {
      "needs_background": "light"
     },
     "output_type": "display_data"
    }
   ],
   "source": [
    "# values for uncorrelated\n",
    "uncorr_tau = st.kendalltau(x_uncorr, y_uncorr)\n",
    "uncorr_spearman = st.spearmanr(x_uncorr, y_uncorr)\n",
    "uncorr_pearson = st.pearsonr(x_uncorr, y_uncorr)\n",
    "print(\"------------------------------------------------\")\n",
    "print(\"uncorrelated:\")\n",
    "print(\"tau=\", uncorr_tau)\n",
    "print(\"spearman=\", uncorr_spearman)\n",
    "print(\"pearson/Fisher r=\", uncorr_pearson)\n",
    "print(\"------------------------------------------------\")\n",
    "plt.figure()\n",
    "plt.scatter(x_uncorr, y_uncorr)\n",
    "plt.xlabel(\"x\")\n",
    "plt.ylabel(\"y\")\n",
    "plt.savefig(\"plots/uncorr.png\",dpi=400,bbox_inches=\"tight\")"
   ]
  },
  {
   "cell_type": "markdown",
   "metadata": {},
   "source": [
    "**b.** By permutation methods we want to derive distributions of Fisher $r$, Spearman’s and Kendall’s statistics. To do this, first we take the uncorrelated data set and randomly assign $x$-values to $y$-values to make new pairs. This should give the range of values of the test statistic which are consistent with there being no correlation. There are $20!$ distinct permutations for even this little dataset. Compute your results for 1000 of these at random. (This is achieved by sampling without replacement from the set of 20 $X$'s and assigning each one in order to the set of $Y$'s) For each of the 1000 random samples compute their Fisher $r$ value, Spearman’s and Kendall’s statistics and plot their cumulative distributions. Explain what the obtained plots tell. **20 Points**"
   ]
  },
  {
   "cell_type": "code",
   "execution_count": null,
   "metadata": {},
   "outputs": [
    {
     "data": {
      "image/png": "[encoded data removed]",
      "text/plain": [
       "<Figure size 432x288 with 1 Axes>"
      ]
     },
     "metadata": {
      "needs_background": "light"
     },
     "output_type": "display_data"
    },
    {
     "data": {
      "image/png": "[encoded data removed]",
      "text/plain": [
       "<Figure size 432x288 with 1 Axes>"
      ]
     },
     "metadata": {
      "needs_background": "light"
     },
     "output_type": "display_data"
    },
    {
     "data": {
      "image/png": "[encoded data removed]",
      "text/plain": [
       "<Figure size 432x288 with 1 Axes>"
      ]
     },
     "metadata": {
      "needs_background": "light"
     },
     "output_type": "display_data"
    }
   ],
   "source": [
    "x = x_uncorr\n",
    "y = y_uncorr\n",
    "fishers = []\n",
    "spearmans = []\n",
    "kendalls = []\n",
    "for i in range(1000):\n",
    "    temp_x = np.random.choice(x, 20, replace=False)\n",
    "    fishers.append(st.pearsonr(temp_x, y)[0])\n",
    "    spearmans.append(st.spearmanr(temp_x, y)[0])\n",
    "    kendalls.append(st.kendalltau(temp_x, y)[0])\n",
    "\n",
    "\n",
    "plt.figure(0)\n",
    "sb.lineplot(x=fishers, y=st.norm.cdf(fishers))\n",
    "plt.xlabel(\"Fishers\")\n",
    "plt.ylabel(\"CDF\")\n",
    "plt.savefig(\"plots/fig0.png\",dpi=400,bbox_inches=\"tight\")\n",
    "plt.figure(1)\n",
    "sb.lineplot(x=spearmans, y=st.norm.cdf(spearmans))\n",
    "plt.xlabel(\"spearman r\")\n",
    "plt.ylabel(\"CDF\")\n",
    "plt.savefig(\"plots/fig1.png\",dpi=400,bbox_inches=\"tight\")\n",
    "plt.figure(2)\n",
    "sb.lineplot(x=kendalls, y=st.norm.cdf(kendalls))\n",
    "plt.xlabel(\"kendall tau\")\n",
    "plt.ylabel(\"CDF\")\n",
    "plt.savefig(\"plots/fig2.png\",dpi=400,bbox_inches=\"tight\")"
   ]
  },
  {
   "cell_type": "markdown",
   "metadata": {},
   "source": [
    "**c.** Now take the correlated set of data and do the same as **b)**. Interprete the results with comparing the plots of uncorrelated datasets. **20 Points**"
   ]
  },
  {
   "cell_type": "code",
   "execution_count": null,
   "metadata": {},
   "outputs": [
    {
     "data": {
      "image/png": "[encoded data removed]",
      "text/plain": [
       "<Figure size 432x288 with 1 Axes>"
      ]
     },
     "metadata": {
      "needs_background": "light"
     },
     "output_type": "display_data"
    },
    {
     "data": {
      "image/png": "[encoded data removed]",
      "text/plain": [
       "<Figure size 432x288 with 1 Axes>"
      ]
     },
     "metadata": {
      "needs_background": "light"
     },
     "output_type": "display_data"
    },
    {
     "data": {
      "image/png": "[encoded data removed]",
      "text/plain": [
       "<Figure size 432x288 with 1 Axes>"
      ]
     },
     "metadata": {
      "needs_background": "light"
     },
     "output_type": "display_data"
    }
   ],
   "source": [
    "x = x_corr\n",
    "y = y_corr\n",
    "fishers = []\n",
    "spearmans = []\n",
    "kendalls = []\n",
    "for i in range(1000):\n",
    "    temp_x = np.random.choice(x, 20, replace=False)\n",
    "    fishers.append(st.pearsonr(temp_x, y)[0])\n",
    "    spearmans.append(st.spearmanr(temp_x, y)[0])\n",
    "    kendalls.append(st.kendalltau(temp_x, y)[0])\n",
    "\n",
    "\n",
    "plt.figure(3)\n",
    "sb.lineplot(x=fishers, y=st.norm.cdf(fishers))\n",
    "plt.xlabel(\"Fishers\")\n",
    "plt.ylabel(\"CDF\")\n",
    "plt.savefig(\"plots/fig3.png\",dpi=400,bbox_inches=\"tight\")\n",
    "plt.figure(4)\n",
    "sb.lineplot(x=spearmans, y=st.norm.cdf(spearmans))\n",
    "plt.xlabel(\"spearman r\")\n",
    "plt.ylabel(\"CDF\")\n",
    "plt.savefig(\"plots/fig4.png\",dpi=400,bbox_inches=\"tight\")\n",
    "plt.figure(5)\n",
    "sb.lineplot(x=kendalls, y=st.norm.cdf(kendalls))\n",
    "plt.xlabel(\"kendall tau\")\n",
    "plt.ylabel(\"CDF\")\n",
    "plt.savefig(\"plots/fig5.png\",dpi=400,bbox_inches=\"tight\")"
   ]
  },
  {
   "cell_type": "markdown",
   "metadata": {},
   "source": [
    "Interpretation:\n",
    "The cumulative distribution functions above resemble those of uniform distributions. The only difference between the correlated data and the uncorrelated data is the limits of the given correlation measure, i.e the limits of the x-axis on the CDF plots. Taking the Pearson/Fisher plots as an example, the r value for the correlated data occupies the interval [-0.6,1]. For the uncorrelated data, r lies in the interval [-0.6,0.8]"
   ]
  }
 ],
 "metadata": {
  "interpreter": {
   "hash": "35455d277cc69279d69bd3d2fff07608906c78ad9fde0fa493e6ee7e737d810e"
  },
  "kernelspec": {
   "display_name": "Python 3.8.5 ('base')",
   "language": "python",
   "name": "python3"
  },
  "language_info": {
   "codemirror_mode": {
    "name": "ipython",
    "version": 3
   },
   "file_extension": ".py",
   "mimetype": "text/x-python",
   "name": "python",
   "nbconvert_exporter": "python",
   "pygments_lexer": "ipython3",
   "version": "3.8.5"
  }
 },
 "nbformat": 4,
 "nbformat_minor": 4
}
