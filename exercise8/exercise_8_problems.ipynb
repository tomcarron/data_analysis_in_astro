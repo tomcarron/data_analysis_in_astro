{
 "cells": [
  {
   "cell_type": "markdown",
   "metadata": {},
   "source": [
    "# Exercise Set 8\n",
    "\n",
    "Due: **9:30 30 May 2022**\n",
    "\n",
    "Discussion: **13:00 3 June 2022**\n",
    "\n",
    "**Online submission** at via [ILIAS](https://www.ilias.uni-koeln.de/ilias/goto_uk_exc_4593683.html) in the directory Exercises / Übungen -> Submission of Exercises / Rückgabe des Übungsblätter"
   ]
  },
  {
   "cell_type": "markdown",
   "metadata": {},
   "source": [
    "# 1. Error Calculations [40 points]"
   ]
  },
  {
   "cell_type": "markdown",
   "metadata": {},
   "source": [
    "Suppose we are viewing a binary orbit face-on. The primary star has mass $2.19^{+0.43}_{-0.41} M_\\odot$, luminosity $60.8^{+1.3}_{-1.2} L_\\odot$, and effective temperature $6595^{+53}_{-58} K$. The secondary star has mass $1.62^{+0.26}_{-0.32} M_\\odot$, luminosity $3.2^{+0.7}_{-0.8} L_\\odot$, and effective temperature $4284^{+78}_{-73} K$. The distance to the binary is determined to be $5pc$. Compute the following properties including error.\n",
    "\n",
    " > *hint: recall the solar values (without error)*\n",
    " \n",
    " >> $M_\\odot = 1.989 \\times 10^{30} kg$, \n",
    " \n",
    " >> $m_\\odot = -26.74$, \n",
    " \n",
    " >> $L_\\odot=3.828 \\times 10^{26} \\frac{J}{s}$, \n",
    " \n",
    " >> $R_\\odot = 6.955 \\times 10^{8} m$, and \n",
    " \n",
    " >> $T_{eff, \\odot} = 5780 K$"
   ]
  },
  {
   "cell_type": "markdown",
   "metadata": {},
   "source": [
    "**a)** What is the total mass of the binary? What is the reduced mass? **10 points**\n",
    "\n",
    " > *hint: the reduced mass of $M_1$ and $M_2$ is $\\mu = \\frac{M_1M_2}{M_1+M_2}$*"
   ]
  },
  {
   "cell_type": "markdown",
   "metadata": {},
   "source": [
    "**b)** What is the radius of each star? **10 points**\n",
    "\n",
    " > *hint: recall the equation for the luminosity of a star $L = 4\\pi R^2 \\sigma T_{eff}^4$, where $\\sigma$ is the Stefan-Boltzmann constant*"
   ]
  },
  {
   "cell_type": "markdown",
   "metadata": {},
   "source": [
    "**c)** What is the flux coming from each star? What is the total flux? What is the apparent magnitude of the binary system? **20 points**\n",
    "\n",
    " > *hint: the flux is determined by $F = \\sigma T_{eff}^4$, while apparant magnitude is given by $m = -2.5 log_{10}\\left( \\frac{F}{F_\\odot} \\right) + m_\\odot$*"
   ]
  },
  {
   "cell_type": "markdown",
   "metadata": {},
   "source": [
    "# 2. PCA using covariance [60 points]"
   ]
  },
  {
   "cell_type": "markdown",
   "metadata": {},
   "source": [
    "In this problem we will redo the Principal Component Analysis (PCA) as presented by Francis & Wills (1999) on a set of quasar data. The paper can be downloaded from this [link](https://arxiv.org/abs/astro-ph/9905079.pdf). \n",
    "The data is available on the website as datafile: `quasar.dat`. The main result from the paper is shown in their Table 3:\n",
    "\n",
    "![Table 3 from Francis and Wills (1999)](table_3.png)\n",
    "\n",
    "We now carry through a PCA on the data of the quasar sample given in Francis & Wills (1999)."
   ]
  },
  {
   "cell_type": "markdown",
   "metadata": {},
   "source": [
    "**a)** Read the paper! Remove data rows that have missing data. Create a table of the original data and compute mean value and standard deviation of each column. **10 Points**"
   ]
  },
  {
   "cell_type": "markdown",
   "metadata": {},
   "source": [
    "**b)** Take the original data and put it into normalized or weighted form, so that the effect of different units is effectively removed. Normalize by the standard deviation! **10 Points**"
   ]
  },
  {
   "cell_type": "markdown",
   "metadata": {},
   "source": [
    "**c)** Visually inspect the data after the normalization by plotting each column ($x$: data index, $y$: data value). Confirm (by eye) that each component is about normally distributed. **10 Points**"
   ]
  },
  {
   "cell_type": "markdown",
   "metadata": {},
   "source": [
    "**d)** Construct the covariance matrix. This is a $13\\times13$ symmetric matrix. **10 Points**\n",
    "\n",
    "$$ C_{ij} = \\sigma_i \\sigma_j $$"
   ]
  },
  {
   "cell_type": "markdown",
   "metadata": {},
   "source": [
    "**e)** Compute the eigenvalues and eigenvectors of the covariance matrix. Plot the Eigenvalues against their number (index). Recreate Table 3 from Francis & Wills (1999). **10 Points**"
   ]
  },
  {
   "cell_type": "markdown",
   "metadata": {},
   "source": [
    "**f)** Compute errors of the eigenvalues with a bootstrap analysis or jackknife. Use sample size of 10000. Plot the distributions for the first 5 eigenvalues. **10 Points**"
   ]
  }
 ],
 "metadata": {
  "kernelspec": {
   "display_name": "Python 3 (ipykernel)",
   "language": "python",
   "name": "python3"
  },
  "language_info": {
   "codemirror_mode": {
    "name": "ipython",
    "version": 3
   },
   "file_extension": ".py",
   "mimetype": "text/x-python",
   "name": "python",
   "nbconvert_exporter": "python",
   "pygments_lexer": "ipython3",
   "version": "3.9.12"
  }
 },
 "nbformat": 4,
 "nbformat_minor": 4
}
