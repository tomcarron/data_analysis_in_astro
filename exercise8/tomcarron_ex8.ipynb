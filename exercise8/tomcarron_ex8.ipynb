{
 "cells": [
  {
   "cell_type": "markdown",
   "metadata": {},
   "source": [
    "# Exercise Set 8\n",
    "\n",
    "Due: **9:30 30 May 2022**\n",
    "\n",
    "Discussion: **13:00 3 June 2022**\n",
    "\n",
    "**Online submission** at via [ILIAS](https://www.ilias.uni-koeln.de/ilias/goto_uk_exc_4593683.html) in the directory Exercises / Übungen -> Submission of Exercises / Rückgabe des Übungsblätter"
   ]
  },
  {
   "cell_type": "code",
   "execution_count": 9,
   "metadata": {},
   "outputs": [],
   "source": [
    "import numpy as np\n",
    "import matplotlib.pyplot as plt\n",
    "import astropy\n",
    "import astropy.constants as const\n",
    "import astropy.units as u\n",
    "import pandas as pd"
   ]
  },
  {
   "cell_type": "markdown",
   "metadata": {},
   "source": [
    "# 1. Error Calculations [40 points]"
   ]
  },
  {
   "cell_type": "markdown",
   "metadata": {},
   "source": [
    "Suppose we are viewing a binary orbit face-on. The primary star has mass $2.19^{+0.43}_{-0.41} M_\\odot$, luminosity $60.8^{+1.3}_{-1.2} L_\\odot$, and effective temperature $6595^{+53}_{-58} K$. The secondary star has mass $1.62^{+0.26}_{-0.32} M_\\odot$, luminosity $3.2^{+0.7}_{-0.8} L_\\odot$, and effective temperature $4284^{+78}_{-73} K$. The distance to the binary is determined to be $5pc$. Compute the following properties including error.\n",
    "\n",
    " > *hint: recall the solar values (without error)*\n",
    " \n",
    " >> $M_\\odot = 1.989 \\times 10^{30} kg$, \n",
    " \n",
    " >> $m_\\odot = -26.74$, \n",
    " \n",
    " >> $L_\\odot=3.828 \\times 10^{26} \\frac{J}{s}$, \n",
    " \n",
    " >> $R_\\odot = 6.955 \\times 10^{8} m$, and \n",
    " \n",
    " >> $T_{eff, \\odot} = 5780 K$"
   ]
  },
  {
   "cell_type": "markdown",
   "metadata": {},
   "source": [
    "**a)** What is the total mass of the binary? What is the reduced mass? **10 points**\n",
    "\n",
    " > *hint: the reduced mass of $M_1$ and $M_2$ is $\\mu = \\frac{M_1M_2}{M_1+M_2}$*"
   ]
  },
  {
   "cell_type": "code",
   "execution_count": 10,
   "metadata": {},
   "outputs": [
    {
     "name": "stdout",
     "output_type": "stream",
     "text": [
      "Total mass: 3.81 (+ 0.5 ,- 0.52 )\n",
      "Reduced mass: 0.93 (+ 0.24 ,- 0.25 )\n"
     ]
    }
   ],
   "source": [
    "#Mass1 and errors\n",
    "M1=2.19\n",
    "M1_u=0.43\n",
    "M1_l=0.41\n",
    "#Mass2 and errors\n",
    "M2=1.62\n",
    "M2_u=0.26\n",
    "M2_l=0.32\n",
    "#Total mass and errors\n",
    "Mtot=M1+M2\n",
    "Mtot_u=np.sqrt(M1_u**2+M2_u**2)\n",
    "Mtot_l=np.sqrt(M1_l**2+M2_l**2)\n",
    "\n",
    "print(\"Total mass:\",Mtot,\"(+\",np.round(Mtot_u,2),\",-\",np.round(Mtot_l,2),\")\")\n",
    "\n",
    "#Reduced mass\n",
    "def reduced_mass(M1,M2,M1_u,M1_l,M2_u,M2_l):\n",
    "    Mtot=M1+M2\n",
    "    Mtot_u=np.sqrt(M1_u**2+M2_u**2)\n",
    "    Mtot_l=np.sqrt(M1_l**2+M2_l**2) \n",
    "    #calculate reduced mass\n",
    "    mu=M1*M2/Mtot\n",
    "    #upper bound\n",
    "    mu_u=abs(mu)*np.sqrt((M1_u/M1)**2+(M2_u/M2)**2)\n",
    "    #lower bound\n",
    "    mu_l=abs(mu)*np.sqrt((M1_l/M1)**2+(M2_l/M2)**2)\n",
    "    print(\"Reduced mass:\",np.round(mu,2),\"(+\",np.round(mu_u,2),\",-\",np.round(mu_l,2),\")\")\n",
    "    return mu,mu_u,mu_l\n",
    "\n",
    "mu=reduced_mass(M1,M2,M1_u,M1_l,M2_u,M2_l)\n",
    "#print(\"Reduced mass:\",np.round(mu[0],2),\"+\",np.round(mu[1],2),\"-\",np.round(mu[2],2))"
   ]
  },
  {
   "cell_type": "markdown",
   "metadata": {},
   "source": [
    "**b)** What is the radius of each star? **10 points**\n",
    "\n",
    " > *hint: recall the equation for the luminosity of a star $L = 4\\pi R^2 \\sigma T_{eff}^4$, where $\\sigma$ is the Stefan-Boltzmann constant*"
   ]
  },
  {
   "cell_type": "code",
   "execution_count": 37,
   "metadata": {},
   "outputs": [
    {
     "name": "stdout",
     "output_type": "stream",
     "text": [
      "primary star:\n",
      "Radius: 5.97276394217297 (+ 6.6775628685287116e-21 ,- 6.976708790728586e-21 )\n",
      "secondary star:\n",
      "Radius: 3.2473509437426613 (+ 7.334516125467876e-20 ,- 8.243400780953687e-20 )\n"
     ]
    }
   ],
   "source": [
    "L1=(60.8*((u.L_sun).to(\"J/s\")))\n",
    "L1_u=(1.3*((u.L_sun).to(\"J/s\")))\n",
    "L1_l=(1.2*((u.L_sun).to(\"J/s\")))\n",
    "T1,T1_u,T1_l=[6595,53,58]\n",
    "L2=(3.2*(u.L_sun).to(\"J/s\"))\n",
    "L2_u=(0.7*(u.L_sun).to(\"J/s\"))\n",
    "L2_l=(0.8*(u.L_sun).to(\"J/s\"))\n",
    "T2,T2_u,T2_l=[4284,78,73]\n",
    "def rad_err(L,dL,T,dT):\n",
    "    sigma=const.sigma_sb.value # Steffan boltz in SI units\n",
    "    T4=T**4\n",
    "    T5=T4*T\n",
    "    term1=0.5*((L/(4*np.pi*sigma*T4))**(-1.5))*(1/(4*np.pi*sigma*T4))\n",
    "    term2=0.5*((L/(4*np.pi*sigma*T4))**(-1.5))*(-L/(np.pi*sigma*T5))\n",
    "    dr=np.sqrt((term1*dL)**2 + (term2*dT)**2)\n",
    "    return dr\n",
    "\n",
    "def radius(L,L_u,L_l,T,T_u,T_l):\n",
    "    sigma=const.sigma_sb.value # Steffan boltz in SI units\n",
    "    T4=T**4\n",
    "    R=(np.sqrt(L/(4*np.pi*sigma*T4))*(u.m)).to(\"R_sun\").value\n",
    "    R_u=(rad_err(L,L_u,T,T_u)*(u.m)).to(\"R_sun\").value\n",
    "    R_l=(rad_err(L,L_l,T,T_l)*(u.m)).to(\"R_sun\").value\n",
    "    print(\"Radius:\",R,\"(+\",R_u,\",-\",R_l,\")\")\n",
    "    return R,R_u,R_l\n",
    "\n",
    "print(\"primary star:\")\n",
    "rad1=radius(L1,L1_u,L1_l,T1,T1_u,T1_l)\n",
    "print(\"secondary star:\")\n",
    "rad2=radius(L2,L2_u,L2_l,T2,T2_u,T2_l)"
   ]
  },
  {
   "cell_type": "markdown",
   "metadata": {},
   "source": [
    "**c)** What is the flux coming from each star? What is the total flux? What is the apparent magnitude of the binary system? **20 points**\n",
    "\n",
    " > *hint: the flux is determined by $F = \\sigma T_{eff}^4$, while apparant magnitude is given by $m = -2.5 log_{10}\\left( \\frac{F}{F_\\odot} \\right) + m_\\odot$*"
   ]
  },
  {
   "cell_type": "code",
   "execution_count": 39,
   "metadata": {},
   "outputs": [
    {
     "name": "stdout",
     "output_type": "stream",
     "text": [
      "primary star:\n",
      "Flux: 107268185.94755198 (+ 3448196.424697653 ,- 3773497.9741974315 )\n",
      "secondary star:\n",
      "Flux: 19098954.112451408 (+ 1390960.2434838563 ,- 1301796.1253118142 )\n"
     ]
    }
   ],
   "source": [
    "def flux_err(T,dT):\n",
    "    sigma=const.sigma_sb.value # Steffan boltz in SI units\n",
    "    T3=T**3\n",
    "    df=4*sigma*T3*dT\n",
    "    return df\n",
    "\n",
    "#Returns Flux and errors in W/m^2\n",
    "def flux(T,T_u,T_l):\n",
    "    sigma=const.sigma_sb.value # Steffan boltz in SI units\n",
    "    T4=T**4\n",
    "    F=sigma*T4\n",
    "    F_u=flux_err(T,T_u)\n",
    "    F_l=flux_err(T,T_l)\n",
    "    print(\"Flux:\",F,\"(+\",F_u,\",-\",F_l,\")\")\n",
    "    return F,F_u,F_l\n",
    "\n",
    "print(\"primary star:\")\n",
    "F1=flux(T1,T1_u,T1_l)\n",
    "print(\"secondary star:\")\n",
    "F2=flux(T2,T2_u,T2_l)"
   ]
  },
  {
   "cell_type": "code",
   "execution_count": 45,
   "metadata": {},
   "outputs": [
    {
     "name": "stdout",
     "output_type": "stream",
     "text": [
      "primary star:\n",
      "Flux: 63288250.47661096 (+ 0.0 ,- 0.0 )\n",
      "Apparent magnitude: nan (+ nan ,- nan )\n",
      "secondary star:\n",
      "Flux: 63288250.47661096 (+ 0.0 ,- 0.0 )\n",
      "Apparent magnitude: nan (+ nan ,- nan )\n"
     ]
    }
   ],
   "source": [
    "# apparent magnitude\n",
    "def app_mag(F,F_u,F_l):\n",
    "    T_sun=5780\n",
    "    F_sun=flux(T_sun,0,0)[0]\n",
    "    sun_mag=-26.74\n",
    "    m=-2.5*(np.log10(F/F_sun))+sun_mag\n",
    "    m_u=(-2.5*(np.log10(F_u/F_sun))+sun_mag)+m\n",
    "    m_l=m+(2.5*(np.log10(F_l/F_sun))+sun_mag)\n",
    "    print(\"Apparent magnitude:\",m,\"(+\",m_u,\",-\",m_l,\")\")\n",
    "    return m,m_u,m_l\n",
    "\n",
    "print(\"primary star:\")\n",
    "F1=app_mag(F1[0],F1[1],F1[2])\n",
    "print(\"secondary star:\")\n",
    "F2=app_mag(F2[0],F2[1],F2[2])"
   ]
  },
  {
   "cell_type": "markdown",
   "metadata": {},
   "source": [
    "# 2. PCA using covariance [60 points]"
   ]
  },
  {
   "cell_type": "markdown",
   "metadata": {},
   "source": [
    "In this problem we will redo the Principal Component Analysis (PCA) as presented by Francis & Wills (1999) on a set of quasar data. The paper can be downloaded from this [link](https://arxiv.org/abs/astro-ph/9905079.pdf). \n",
    "The data is available on the website as datafile: `quasar.dat`. The main result from the paper is shown in their Table 3:\n",
    "\n",
    "![Table 3 from Francis and Wills (1999)](table_3.png)\n",
    "\n",
    "We now carry through a PCA on the data of the quasar sample given in Francis & Wills (1999)."
   ]
  },
  {
   "cell_type": "markdown",
   "metadata": {},
   "source": [
    "**a)** Read the paper! Remove data rows that have missing data. Create a table of the original data and compute mean value and standard deviation of each column. **10 Points**"
   ]
  },
  {
   "cell_type": "code",
   "execution_count": 119,
   "metadata": {},
   "outputs": [
    {
     "name": "stdout",
     "output_type": "stream",
     "text": [
      "     PG Name  log L1216 alpha  logFWHM Hbeta   FeII/ Hbeta   logEW [OIII]  \\\n",
      "0   0953+414      45.83  1.57           3.496          0.25          1.26   \n",
      "2   1114+445      44.99  0.88           3.660          0.20          1.23   \n",
      "3   1115+407      45.41  1.89           3.236          0.54          0.78   \n",
      "4   1116+215      46.00  1.73           3.465          0.47          1.00   \n",
      "5   1202+281      44.77  1.22           3.703          0.29          1.56   \n",
      "6   1216+069      46.03  1.36           3.715          0.20          1.00   \n",
      "7   1226+023      46.74  0.94           3.547          0.57          0.70   \n",
      "8   1309+355      45.55  1.51           3.468          0.28          1.28   \n",
      "9   1322+659      45.42  1.69           3.446          0.59          0.90   \n",
      "10  1352+183      45.34  1.52           3.556          0.46          1.00   \n",
      "11  1402+261      45.74  1.93           3.281          1.23          0.30   \n",
      "13  1415+451      45.08  1.74           3.418          1.25          0.30   \n",
      "15  1427+480      45.54  1.41           3.405          0.36          1.76   \n",
      "16  1440+356      45.23  2.08           3.161          1.19          1.00   \n",
      "17  1444+407      45.92  1.91           3.394          1.45          0.30   \n",
      "18  1512+370      46.04  1.21           3.833          0.16          1.76   \n",
      "20  1626+554      45.48  1.94           3.652          0.32          0.95   \n",
      "\n",
      "   logFWHM CIII] logEW Lalpha  logEW CIV CIV/ Lalpha logEW CIII] SiIII/ CIII]  \\\n",
      "0          3.432         2.19       1.78        0.40        1.24        0.164   \n",
      "2          3.654         2.27       1.85        0.42        1.48        0.222   \n",
      "3          3.403         1.90       1.51        0.33        1.14        0.385   \n",
      "4          3.446         2.14       1.71        0.34        1.20        0.440   \n",
      "5          3.434         2.72       2.41        0.69        1.87        0.164   \n",
      "6          3.514         2.12       1.95        0.54        1.20        0.037   \n",
      "7          3.477         1.64       1.44        0.45        1.00        0.280   \n",
      "8          3.406         2.01       1.68        0.41        1.15        0.303   \n",
      "9          3.351         2.19       1.85        0.41        1.30        0.291   \n",
      "10         3.548         2.14       1.80        0.41        1.29        0.357   \n",
      "11         3.229         1.91       1.59        0.39        1.09        0.568   \n",
      "13         3.434         2.32       1.78        0.29        1.40        0.688   \n",
      "15         3.300         2.03       1.82        0.49        1.21        0.265   \n",
      "16         3.192         2.14       1.54        0.21        1.05        0.747   \n",
      "17         3.479         1.99       1.34        0.21        1.06        0.809   \n",
      "18         3.546         2.02       2.05        0.75        1.28        0.228   \n",
      "20         3.631         2.14       1.80        0.39        1.36        0.197   \n",
      "\n",
      "   NV/ Lalpha  1400A/ Lalpha  \n",
      "0       0.189          0.093  \n",
      "2       0.175          0.092  \n",
      "3       0.228          0.134  \n",
      "4       0.254          0.126  \n",
      "5       0.154          0.098  \n",
      "6       0.121          0.056  \n",
      "7       0.174          0.018  \n",
      "8       0.131          0.064  \n",
      "9       0.135          0.097  \n",
      "10      0.203          0.116  \n",
      "11      0.227          0.161  \n",
      "13      0.210          0.142  \n",
      "15      0.126          0.117  \n",
      "16      0.141          0.092  \n",
      "17      0.335          0.164  \n",
      "18      0.182          0.050  \n",
      "20      0.217          0.118  \n"
     ]
    },
    {
     "name": "stderr",
     "output_type": "stream",
     "text": [
      "<ipython-input-119-077e419bea9f>:1: ParserWarning: Falling back to the 'python' engine because the 'c' engine does not support skipfooter; you can avoid this warning by specifying engine='python'.\n",
      "  df=pd.read_csv(\"quasar.dat\",sep=\"\\s+\",header=4,skipfooter=9,names=['PG Name', 'log L1216', 'alpha', 'logFWHM Hbeta ', 'FeII/ Hbeta ',\n"
     ]
    }
   ],
   "source": [
    "df=pd.read_csv(\"quasar.dat\",sep=\"\\s+\",header=4,skipfooter=9,names=['PG Name', 'log L1216', 'alpha', 'logFWHM Hbeta ', 'FeII/ Hbeta ',\n",
    " 'logEW [OIII]', 'logFWHM CIII]','logEW Lalpha', 'logEW CIV', 'CIV/ Lalpha', 'logEW CIII]', 'SiIII/ CIII]', 'NV/ Lalpha', '1400A/ Lalpha']  )\n",
    "for i in range(len(df.columns)):\n",
    "    col=df.columns[i]\n",
    "    df=df[df[col]!=\"----\"]\n",
    "df\n",
    "print(df)\n",
    "\n",
    "#create a table of the original data and compute the mean value and standard deviation of each column"
   ]
  },
  {
   "cell_type": "markdown",
   "metadata": {},
   "source": [
    "**b)** Take the original data and put it into normalized or weighted form, so that the effect of different units is effectively removed. Normalize by the standard deviation! **10 Points**"
   ]
  },
  {
   "cell_type": "markdown",
   "metadata": {},
   "source": [
    "**c)** Visually inspect the data after the normalization by plotting each column ($x$: data index, $y$: data value). Confirm (by eye) that each component is about normally distributed. **10 Points**"
   ]
  },
  {
   "cell_type": "markdown",
   "metadata": {},
   "source": [
    "**d)** Construct the covariance matrix. This is a $13\\times13$ symmetric matrix. **10 Points**\n",
    "\n",
    "$$ C_{ij} = \\sigma_i \\sigma_j $$"
   ]
  },
  {
   "cell_type": "markdown",
   "metadata": {},
   "source": [
    "**e)** Compute the eigenvalues and eigenvectors of the covariance matrix. Plot the Eigenvalues against their number (index). Recreate Table 3 from Francis & Wills (1999). **10 Points**"
   ]
  },
  {
   "cell_type": "markdown",
   "metadata": {},
   "source": [
    "**f)** Compute errors of the eigenvalues with a bootstrap analysis or jackknife. Use sample size of 10000. Plot the distributions for the first 5 eigenvalues. **10 Points**"
   ]
  }
 ],
 "metadata": {
  "interpreter": {
   "hash": "35455d277cc69279d69bd3d2fff07608906c78ad9fde0fa493e6ee7e737d810e"
  },
  "kernelspec": {
   "display_name": "Python 3.8.5 ('base')",
   "language": "python",
   "name": "python3"
  },
  "language_info": {
   "codemirror_mode": {
    "name": "ipython",
    "version": 3
   },
   "file_extension": ".py",
   "mimetype": "text/x-python",
   "name": "python",
   "nbconvert_exporter": "python",
   "pygments_lexer": "ipython3",
   "version": "3.8.5"
  }
 },
 "nbformat": 4,
 "nbformat_minor": 4
}
