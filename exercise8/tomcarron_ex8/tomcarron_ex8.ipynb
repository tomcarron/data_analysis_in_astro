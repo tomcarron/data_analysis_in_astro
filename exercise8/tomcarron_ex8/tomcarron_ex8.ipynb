{
 "cells": [
  {
   "cell_type": "markdown",
   "metadata": {},
   "source": [
    "# Exercise Set 8\n",
    "\n",
    "Due: **9:30 30 May 2022**\n",
    "\n",
    "Discussion: **13:00 3 June 2022**\n",
    "\n",
    "**Online submission** at via [ILIAS](https://www.ilias.uni-koeln.de/ilias/goto_uk_exc_4593683.html) in the directory Exercises / Übungen -> Submission of Exercises / Rückgabe des Übungsblätter"
   ]
  },
  {
   "cell_type": "code",
   "execution_count": null,
   "metadata": {},
   "outputs": [],
   "source": [
    "import numpy as np\n",
    "import matplotlib.pyplot as plt\n",
    "import astropy\n",
    "import astropy.constants as const\n",
    "import astropy.units as u\n",
    "import pandas as pd"
   ]
  },
  {
   "cell_type": "markdown",
   "metadata": {},
   "source": [
    "# 1. Error Calculations [40 points]"
   ]
  },
  {
   "cell_type": "markdown",
   "metadata": {},
   "source": [
    "Suppose we are viewing a binary orbit face-on. The primary star has mass $2.19^{+0.43}_{-0.41} M_\\odot$, luminosity $60.8^{+1.3}_{-1.2} L_\\odot$, and effective temperature $6595^{+53}_{-58} K$. The secondary star has mass $1.62^{+0.26}_{-0.32} M_\\odot$, luminosity $3.2^{+0.7}_{-0.8} L_\\odot$, and effective temperature $4284^{+78}_{-73} K$. The distance to the binary is determined to be $5pc$. Compute the following properties including error.\n",
    "\n",
    " > *hint: recall the solar values (without error)*\n",
    " \n",
    " >> $M_\\odot = 1.989 \\times 10^{30} kg$, \n",
    " \n",
    " >> $m_\\odot = -26.74$, \n",
    " \n",
    " >> $L_\\odot=3.828 \\times 10^{26} \\frac{J}{s}$, \n",
    " \n",
    " >> $R_\\odot = 6.955 \\times 10^{8} m$, and \n",
    " \n",
    " >> $T_{eff, \\odot} = 5780 K$"
   ]
  },
  {
   "cell_type": "markdown",
   "metadata": {},
   "source": [
    "**a)** What is the total mass of the binary? What is the reduced mass? **10 points**\n",
    "\n",
    " > *hint: the reduced mass of $M_1$ and $M_2$ is $\\mu = \\frac{M_1M_2}{M_1+M_2}$*"
   ]
  },
  {
   "cell_type": "code",
   "execution_count": null,
   "metadata": {},
   "outputs": [
    {
     "name": "stdout",
     "output_type": "stream",
     "text": [
      "Total mass: 3.81 (+ 0.5 ,- 0.52 ) [Solar masses]\n",
      "Reduced mass: 0.93 (+ 0.24 ,- 0.25 ) solar masses\n"
     ]
    }
   ],
   "source": [
    "# Mass1 and errors\n",
    "M1 = 2.19\n",
    "M1_u = 0.43\n",
    "M1_l = 0.41\n",
    "# Mass2 and errors\n",
    "M2 = 1.62\n",
    "M2_u = 0.26\n",
    "M2_l = 0.32\n",
    "# Total mass and errors\n",
    "Mtot = M1 + M2\n",
    "Mtot_u = np.sqrt(M1_u**2 + M2_u**2)\n",
    "Mtot_l = np.sqrt(M1_l**2 + M2_l**2)\n",
    "\n",
    "print(\n",
    "    \"Total mass:\",\n",
    "    Mtot,\n",
    "    \"(+\",\n",
    "    np.round(Mtot_u, 2),\n",
    "    \",-\",\n",
    "    np.round(Mtot_l, 2),\n",
    "    \") [Solar masses]\",\n",
    ")\n",
    "\n",
    "# Reduced mass\n",
    "def reduced_mass(M1, M2, M1_u, M1_l, M2_u, M2_l):\n",
    "    Mtot = M1 + M2\n",
    "    Mtot_u = np.sqrt(M1_u**2 + M2_u**2)\n",
    "    Mtot_l = np.sqrt(M1_l**2 + M2_l**2)\n",
    "    # calculate reduced mass\n",
    "    mu = (M1 * M2) / Mtot\n",
    "    # upper bound\n",
    "    mu_u = abs(mu) * np.sqrt((M1_u / M1) ** 2 + (M2_u / M2) ** 2)\n",
    "    # lower bound\n",
    "    mu_l = abs(mu) * np.sqrt((M1_l / M1) ** 2 + (M2_l / M2) ** 2)\n",
    "    print(\n",
    "        \"Reduced mass:\",\n",
    "        np.round(mu, 2),\n",
    "        \"(+\",\n",
    "        np.round(mu_u, 2),\n",
    "        \",-\",\n",
    "        np.round(mu_l, 2),\n",
    "        \") solar masses\",\n",
    "    )\n",
    "    return mu, mu_u, mu_l\n",
    "\n",
    "\n",
    "mu = reduced_mass(M1, M2, M1_u, M1_l, M2_u, M2_l)\n",
    "# print(\"Reduced mass:\",np.round(mu[0],2),\"+\",np.round(mu[1],2),\"-\",np.round(mu[2],2))"
   ]
  },
  {
   "cell_type": "markdown",
   "metadata": {},
   "source": [
    "**b)** What is the radius of each star? **10 points**\n",
    "\n",
    " > *hint: recall the equation for the luminosity of a star $L = 4\\pi R^2 \\sigma T_{eff}^4$, where $\\sigma$ is the Stefan-Boltzmann constant*"
   ]
  },
  {
   "cell_type": "code",
   "execution_count": null,
   "metadata": {},
   "outputs": [
    {
     "name": "stdout",
     "output_type": "stream",
     "text": [
      "primary star:\n",
      "Radius: 5.97 (+ 0.12 ,- 0.11 ) [solar radii]\n",
      "secondary star:\n",
      "Radius: 3.25 (+ 0.37 ,- 0.42 ) [solar radii]\n"
     ]
    }
   ],
   "source": [
    "L1 = (60.8 * (u.L_sun)).to(\"J/s\")\n",
    "L1_u = (1.3 * (u.L_sun)).to(\"J/s\")\n",
    "L1_l = (1.2 * (u.L_sun)).to(\"J/s\")\n",
    "T1, T1_u, T1_l = [6595, 53, 58]\n",
    "L2 = (3.2 * (u.L_sun)).to(\"J/s\")\n",
    "L2_u = (0.7 * (u.L_sun)).to(\"J/s\")\n",
    "L2_l = (0.8 * (u.L_sun)).to(\"J/s\")\n",
    "T2, T2_u, T2_l = [4284, 78, 73]\n",
    "\n",
    "\n",
    "def rad_err(L, L_b, T, T_b):\n",
    "    dL = L_b\n",
    "    dT = T_b\n",
    "    sigma = const.sigma_sb.value  # Steffan boltz in SI units\n",
    "    T4 = T**4\n",
    "    T5 = T4 * T\n",
    "    term1 = np.sqrt(L / (4 * np.pi * sigma * T4)) * (1 / (2 * L))\n",
    "    term2 = -2.0 * (1 / T) * np.sqrt(L / (4 * np.pi * sigma * T4))\n",
    "    dr = np.sqrt((term1 * dL) ** 2 + (term2 * dT) ** 2).value\n",
    "    return dr\n",
    "\n",
    "\n",
    "def radius(L, L_u, L_l, T, T_u, T_l):\n",
    "    sigma = const.sigma_sb.value  # Steffan boltz in SI units\n",
    "    T4 = T**4\n",
    "    R = (np.sqrt(L / (4 * np.pi * sigma * T4)).value * (u.m)).to(\"R_sun\").value\n",
    "    R_u = (rad_err(L, L_u, T, T_l) * (u.m)).to(\"R_sun\").value\n",
    "    R_l = (rad_err(L, L_l, T, T_u) * (u.m)).to(\"R_sun\").value\n",
    "    print(\n",
    "        \"Radius:\",\n",
    "        np.round(R, 2),\n",
    "        \"(+\",\n",
    "        np.round(R_u, 2),\n",
    "        \",-\",\n",
    "        np.round(R_l, 2),\n",
    "        \") [solar radii]\",\n",
    "    )\n",
    "    return R, R_u, R_l\n",
    "\n",
    "\n",
    "print(\"primary star:\")\n",
    "rad1 = radius(L1, L1_u, L1_l, T1, T1_u, T1_l)\n",
    "print(\"secondary star:\")\n",
    "rad2 = radius(L2, L2_u, L2_l, T2, T2_u, T2_l)"
   ]
  },
  {
   "cell_type": "markdown",
   "metadata": {},
   "source": [
    "**c)** What is the flux coming from each star? What is the total flux? What is the apparent magnitude of the binary system? **20 points**\n",
    "\n",
    " > *hint: the flux is determined by $F = \\sigma T_{eff}^4$, while apparant magnitude is given by $m = -2.5 log_{10}\\left( \\frac{F}{F_\\odot} \\right) + m_\\odot$*"
   ]
  },
  {
   "cell_type": "code",
   "execution_count": null,
   "metadata": {},
   "outputs": [
    {
     "name": "stdout",
     "output_type": "stream",
     "text": [
      "primary star:\n",
      "Flux: 1.07e+08 (+ 3.45e+06 ,- 3.77e+06 )\n",
      "secondary star:\n",
      "Flux: 1.91e+07 (+ 1.39e+06 ,- 1.30e+06 )\n"
     ]
    }
   ],
   "source": [
    "def flux_err(T, T_b, F):\n",
    "    dT = T_b\n",
    "    df = F * 4 * dT / T\n",
    "    return df\n",
    "\n",
    "\n",
    "# Returns Flux and errors in W/m^2\n",
    "def flux(T, T_u, T_l):\n",
    "    sigma = const.sigma_sb.value  # Steffan boltz in SI units\n",
    "    T4 = T**4\n",
    "    F = sigma * T4\n",
    "    F_u = flux_err(T, T_u, F)\n",
    "    F_l = flux_err(T, T_l, F)\n",
    "    print(\n",
    "        \"Flux:\",\n",
    "        np.format_float_scientific(F, 2),\n",
    "        \"(+\",\n",
    "        np.format_float_scientific(F_u, 2),\n",
    "        \",-\",\n",
    "        np.format_float_scientific(F_l, 2),\n",
    "        \")\",\n",
    "    )\n",
    "    return F, F_u, F_l\n",
    "\n",
    "\n",
    "print(\"primary star:\")\n",
    "F1 = flux(T1, T1_u, T1_l)\n",
    "print(\"secondary star:\")\n",
    "F2 = flux(T2, T2_u, T2_l)"
   ]
  },
  {
   "cell_type": "code",
   "execution_count": null,
   "metadata": {},
   "outputs": [
    {
     "name": "stdout",
     "output_type": "stream",
     "text": [
      "primary star:\n",
      "Solar Flux:\n",
      "Flux: 6.33e+07 (+ 0.e+00 ,- 0.e+00 )\n",
      "Apparent magnitude: -27.31 (+ 0.03 ,- 0.04 )\n",
      "secondary star:\n",
      "Solar Flux:\n",
      "Flux: 6.33e+07 (+ 0.e+00 ,- 0.e+00 )\n",
      "Apparent magnitude: -25.44 (+ 0.08 ,- 0.07 )\n"
     ]
    }
   ],
   "source": [
    "# apparent magnitude\n",
    "def app_mag(F, F_u, F_l):\n",
    "    T_sun = 5780\n",
    "    print(\"Solar Flux:\")\n",
    "    Fsun = flux(T_sun, 0, 0)[0]\n",
    "    Fr = F / Fsun\n",
    "    F_ur = F_u / Fsun\n",
    "    F_lr = F_l / Fsun\n",
    "    sun_mag = -26.74\n",
    "    m = -2.5 * (np.log10(Fr)) + sun_mag\n",
    "    m_u = (2.5 * F_ur) / (Fr * 2.303)\n",
    "    m_l = (2.5 * F_lr) / (Fr * 2.303)\n",
    "    print(\n",
    "        \"Apparent magnitude:\",\n",
    "        np.round(m, 2),\n",
    "        \"(+\",\n",
    "        np.round(m_u, 2),\n",
    "        \",-\",\n",
    "        np.round(m_l, 2),\n",
    "        \")\",\n",
    "    )\n",
    "    return m, m_u, m_l\n",
    "\n",
    "\n",
    "print(\"primary star:\")\n",
    "am1 = app_mag(F1[0], F1[1], F1[2])\n",
    "print(\"secondary star:\")\n",
    "am2 = app_mag(F2[0], F2[1], F2[2])"
   ]
  },
  {
   "cell_type": "markdown",
   "metadata": {},
   "source": [
    "# 2. PCA using covariance [60 points]"
   ]
  },
  {
   "cell_type": "markdown",
   "metadata": {},
   "source": [
    "**a)** Read the paper! Remove data rows that have missing data. Create a table of the original data and compute mean value and standard deviation of each column. **10 Points**"
   ]
  },
  {
   "cell_type": "code",
   "execution_count": null,
   "metadata": {},
   "outputs": [],
   "source": [
    "df = pd.read_csv(\n",
    "    \"quasar.dat\",\n",
    "    sep=\"\\s+\",\n",
    "    header=4,\n",
    "    skipfooter=9,\n",
    "    names=[\n",
    "        \"PG Name\",\n",
    "        \"log L1216\",\n",
    "        \"alpha\",\n",
    "        \"logFWHM Hbeta \",\n",
    "        \"FeII/ Hbeta \",\n",
    "        \"logEW [OIII]\",\n",
    "        \"logFWHM CIII]\",\n",
    "        \"logEW Lalpha\",\n",
    "        \"logEW CIV\",\n",
    "        \"CIV/ Lalpha\",\n",
    "        \"logEW CIII]\",\n",
    "        \"SiIII/ CIII]\",\n",
    "        \"NV/ Lalpha\",\n",
    "        \"1400A/ Lalpha\",\n",
    "    ],\n",
    "    engine=\"python\",\n",
    ")\n",
    "df.to_latex(\"tables/og_data.tex\", index=False)\n",
    "for i in range(len(df.columns)):\n",
    "    col = df.columns[i]\n",
    "    df = df[df[col] != \"----\"]\n",
    "df.to_latex(\"tables/table.tex\", index=False)\n",
    "# df.to_markdown(index=False)"
   ]
  },
  {
   "cell_type": "markdown",
   "metadata": {},
   "source": []
  },
  {
   "cell_type": "markdown",
   "metadata": {},
   "source": [
    "**b)** Take the original data and put it into normalized or weighted form, so that the effect of different units is effectively removed. Normalize by the standard deviation! **10 Points**"
   ]
  },
  {
   "cell_type": "code",
   "execution_count": null,
   "metadata": {},
   "outputs": [],
   "source": [
    "# compute the mean and standard deviation of each column\n",
    "cols = [\"column\"]\n",
    "means = [\"mean\"]\n",
    "stds = [\"standard deviation\"]\n",
    "# print(df['alpha'].to_numpy())\n",
    "for i in range(len(df.columns) - 1):\n",
    "    col = df.columns[i + 1]\n",
    "    cols.append(col)\n",
    "    means.append(np.mean(df[col].to_numpy(dtype=\"float64\")))\n",
    "    stds.append(np.std(df[col].to_numpy(dtype=\"float64\")))\n",
    "\n",
    "stats = pd.DataFrame([means, stds], columns=cols)\n",
    "stats.to_latex(\"tables/stats_table.tex\", index=False)"
   ]
  },
  {
   "cell_type": "code",
   "execution_count": null,
   "metadata": {},
   "outputs": [],
   "source": [
    "# subtract the mean and divide by standard deviation\n",
    "df_norm = df\n",
    "for i in range(len(df_norm.columns) - 1):\n",
    "    col = df_norm.columns[i + 1]\n",
    "    df_norm[col] = (df_norm[col].to_numpy(dtype=\"float64\") - stats[col][0]) / stats[\n",
    "        col\n",
    "    ][1]\n",
    "df_norm.to_latex(\"tables/standardized.tex\", index=False)"
   ]
  },
  {
   "cell_type": "markdown",
   "metadata": {},
   "source": [
    "**c)** Visually inspect the data after the normalization by plotting each column ($x$: data index, $y$: data value). Confirm (by eye) that each component is about normally distributed. **10 Points**"
   ]
  },
  {
   "cell_type": "code",
   "execution_count": 9,
   "metadata": {},
   "outputs": [
    {
     "data": {
      "image/png": "[encoded data removed]",
      "text/plain": [
       "<Figure size 432x288 with 1 Axes>"
      ]
     },
     "metadata": {
      "needs_background": "light"
     },
     "output_type": "display_data"
    },
    {
     "data": {
      "image/png": "[encoded data removed]",
      "text/plain": [
       "<Figure size 432x288 with 1 Axes>"
      ]
     },
     "metadata": {
      "needs_background": "light"
     },
     "output_type": "display_data"
    },
    {
     "data": {
      "image/png": "[encoded data removed]",
      "text/plain": [
       "<Figure size 432x288 with 1 Axes>"
      ]
     },
     "metadata": {
      "needs_background": "light"
     },
     "output_type": "display_data"
    },
    {
     "data": {
      "image/png": "[encoded data removed]",
      "text/plain": [
       "<Figure size 432x288 with 1 Axes>"
      ]
     },
     "metadata": {
      "needs_background": "light"
     },
     "output_type": "display_data"
    },
    {
     "data": {
      "image/png": "[encoded data removed]",
      "text/plain": [
       "<Figure size 432x288 with 1 Axes>"
      ]
     },
     "metadata": {
      "needs_background": "light"
     },
     "output_type": "display_data"
    },
    {
     "data": {
      "image/png": "[encoded data removed]",
      "text/plain": [
       "<Figure size 432x288 with 1 Axes>"
      ]
     },
     "metadata": {
      "needs_background": "light"
     },
     "output_type": "display_data"
    },
    {
     "data": {
      "image/png": "[encoded data removed]",
      "text/plain": [
       "<Figure size 432x288 with 1 Axes>"
      ]
     },
     "metadata": {
      "needs_background": "light"
     },
     "output_type": "display_data"
    },
    {
     "data": {
      "image/png": "[encoded data removed]",
      "text/plain": [
       "<Figure size 432x288 with 1 Axes>"
      ]
     },
     "metadata": {
      "needs_background": "light"
     },
     "output_type": "display_data"
    },
    {
     "data": {
      "image/png": "[encoded data removed]",
      "text/plain": [
       "<Figure size 432x288 with 1 Axes>"
      ]
     },
     "metadata": {
      "needs_background": "light"
     },
     "output_type": "display_data"
    },
    {
     "data": {
      "image/png": "[encoded data removed]",
      "text/plain": [
       "<Figure size 432x288 with 1 Axes>"
      ]
     },
     "metadata": {
      "needs_background": "light"
     },
     "output_type": "display_data"
    },
    {
     "data": {
      "image/png": "[encoded data removed]",
      "text/plain": [
       "<Figure size 432x288 with 1 Axes>"
      ]
     },
     "metadata": {
      "needs_background": "light"
     },
     "output_type": "display_data"
    },
    {
     "data": {
      "image/png": "[encoded data removed]",
      "text/plain": [
       "<Figure size 432x288 with 1 Axes>"
      ]
     },
     "metadata": {
      "needs_background": "light"
     },
     "output_type": "display_data"
    },
    {
     "data": {
      "image/png": "[encoded data removed]",
      "text/plain": [
       "<Figure size 432x288 with 1 Axes>"
      ]
     },
     "metadata": {
      "needs_background": "light"
     },
     "output_type": "display_data"
    }
   ],
   "source": [
    "for i in range(len(df_norm.columns) - 1):\n",
    "    col0 = df_norm.columns[0]\n",
    "    col = df_norm.columns[i + 1]\n",
    "    plt.figure(i)\n",
    "    plt.scatter(np.arange(0, len(df_norm[col0]), 1), df_norm[col], label=str(col))\n",
    "    # plt.xticks(np.arange(0,len(df_norm[col0]),1))\n",
    "    plt.xlabel(\"index\")\n",
    "    plt.ylabel(str(col))\n",
    "    plt.legend()\n",
    "    plt.savefig(\"plots/fig\" + str(i) + \".png\", dpi=400, bbox_inches=\"tight\")"
   ]
  },
  {
   "cell_type": "code",
   "execution_count": 10,
   "metadata": {},
   "outputs": [
    {
     "data": {
      "text/plain": [
       "<matplotlib.collections.PathCollection at 0x7f25105b5370>"
      ]
     },
     "execution_count": 10,
     "metadata": {},
     "output_type": "execute_result"
    },
    {
     "data": {
      "image/png": "[encoded data removed]",
      "text/plain": [
       "<Figure size 432x288 with 1 Axes>"
      ]
     },
     "metadata": {
      "needs_background": "light"
     },
     "output_type": "display_data"
    }
   ],
   "source": [
    "# Random normal distribution for comparison\n",
    "dist = np.random.normal(loc=0.0, scale=1.0, size=20)\n",
    "plt.scatter(np.linspace(0, 1, 20), dist)"
   ]
  },
  {
   "cell_type": "markdown",
   "metadata": {},
   "source": [
    "**d)** Construct the covariance matrix. This is a $13\\times13$ symmetric matrix. **10 Points**\n",
    "\n",
    "$$ C_{ij} = \\sigma_i \\sigma_j $$"
   ]
  },
  {
   "cell_type": "code",
   "execution_count": 11,
   "metadata": {},
   "outputs": [
    {
     "name": "stdout",
     "output_type": "stream",
     "text": [
      "[[ 1.0625     -0.16156062  0.11551354 -0.03785311 -0.15492448  0.06196355\n",
      "  -0.81320334 -0.46720258  0.06414305 -0.72275883 -0.10027613  0.18910973\n",
      "  -0.42480885]\n",
      " [-0.16156062  1.0625     -0.73374724  0.65568499 -0.53145285 -0.51644391\n",
      "  -0.06998462 -0.46157682 -0.70100937 -0.3684895   0.66397927  0.44103882\n",
      "   0.72333254]\n",
      " [ 0.11551354 -0.73374724  1.0625     -0.72879758  0.52839547  0.81748618\n",
      "   0.32248408  0.72832554  0.82625317  0.56923045 -0.75312    -0.22121938\n",
      "  -0.5523506 ]\n",
      " [-0.03785311  0.65568499 -0.72879758  1.0625     -0.83196181 -0.53768998\n",
      "  -0.18043815 -0.62963704 -0.72942826 -0.40445375  0.9957673   0.54845274\n",
      "   0.6316978 ]\n",
      " [-0.15492448 -0.53145285  0.52839547 -0.83196181  1.0625      0.15173859\n",
      "   0.32493845  0.68914075  0.74057987  0.42265682 -0.68938549 -0.62545579\n",
      "  -0.52229808]\n",
      " [ 0.06196355 -0.51644391  0.81748618 -0.53768998  0.15173859  1.0625\n",
      "   0.13522301  0.27572362  0.30612978  0.37547547 -0.4883824   0.2092472\n",
      "  -0.25212943]\n",
      " [-0.81320334 -0.06998462  0.32248408 -0.18043815  0.32493845  0.13522301\n",
      "   1.0625      0.8144661   0.26672394  0.94534487 -0.16973408 -0.19978219\n",
      "   0.1874064 ]\n",
      " [-0.46720258 -0.46157682  0.72832554 -0.62963704  0.68914075  0.27572362\n",
      "   0.8144661   1.0625      0.84218974  0.91540228 -0.65839587 -0.51282776\n",
      "  -0.25825469]\n",
      " [ 0.06414305 -0.70100937  0.82625317 -0.72942826  0.74057987  0.30612978\n",
      "   0.26672394  0.84218974  1.0625      0.54542644 -0.77768758 -0.48842292\n",
      "  -0.56751447]\n",
      " [-0.72275883 -0.3684895   0.56923045 -0.40445375  0.42265682  0.37547547\n",
      "   0.94534487  0.91540228  0.54542644  1.0625     -0.41948605 -0.21916658\n",
      "   0.03594618]\n",
      " [-0.10027613  0.66397927 -0.75312     0.9957673  -0.68938549 -0.4883824\n",
      "  -0.16973408 -0.65839587 -0.77768758 -0.41948605  1.0625      0.59623458\n",
      "   0.63388237]\n",
      " [ 0.18910973  0.44103882 -0.22121938  0.54845274 -0.62545579  0.2092472\n",
      "  -0.19978219 -0.51282776 -0.48842292 -0.21916658  0.59623458  1.0625\n",
      "   0.69060429]\n",
      " [-0.42480885  0.72333254 -0.5523506   0.6316978  -0.52229808 -0.25212943\n",
      "   0.1874064  -0.25825469 -0.56751447  0.03594618  0.63388237  0.69060429\n",
      "   1.0625    ]]\n",
      "(13, 13)\n"
     ]
    }
   ],
   "source": [
    "df_norm2 = df_norm.drop(\n",
    "    \"PG Name\", axis=1\n",
    ")  # data frame (standardized) without name column\n",
    "df_cov = df_norm2.cov()\n",
    "df_cov.to_latex(\"tables/cov.tex\", index=False)\n",
    "cov = df_cov.to_numpy(dtype=\"float64\")\n",
    "print(cov)\n",
    "print(np.shape(cov))"
   ]
  },
  {
   "cell_type": "markdown",
   "metadata": {},
   "source": [
    "**e)** Compute the eigenvalues and eigenvectors of the covariance matrix. Plot the Eigenvalues against their number (index). Recreate Table 3 from Francis & Wills (1999). **10 Points**"
   ]
  },
  {
   "cell_type": "code",
   "execution_count": 12,
   "metadata": {},
   "outputs": [
    {
     "name": "stdout",
     "output_type": "stream",
     "text": [
      "[6.92954436e+00 3.02474389e+00 1.68521654e+00 6.05626765e-01\n",
      " 6.28524808e-01 3.66295692e-01 2.78930990e-01 1.64567472e-01\n",
      " 8.31842992e-02 2.39120717e-02 1.56342984e-02 8.76648843e-04\n",
      " 5.44216430e-03]\n"
     ]
    },
    {
     "data": {
      "image/png": "[encoded data removed]",
      "text/plain": [
       "<Figure size 432x288 with 1 Axes>"
      ]
     },
     "metadata": {
      "needs_background": "light"
     },
     "output_type": "display_data"
    }
   ],
   "source": [
    "# eigenvalues and eigenvectors of covariance matrix\n",
    "eig_val, eig_vec = np.linalg.eig(cov)\n",
    "print(eig_val)\n",
    "plt.figure()\n",
    "plt.scatter(np.arange(0, len(eig_val), 1), eig_val)\n",
    "plt.xlabel(\"index\")\n",
    "plt.ylabel(\"eigen value\")\n",
    "plt.savefig(\"plots/eigenvals.png\", dpi=400, bbox_inches=\"tight\")"
   ]
  },
  {
   "cell_type": "code",
   "execution_count": 19,
   "metadata": {},
   "outputs": [
    {
     "data": {
      "text/plain": [
       "' Table shown in attached PDF'"
      ]
     },
     "execution_count": 19,
     "metadata": {},
     "output_type": "execute_result"
    }
   ],
   "source": [
    "# Recreate table 3\n",
    "# First order eigvals and vecs in order of eigenvalues highest to lowest\n",
    "idx = np.argsort(np.abs(eig_val))[::-1]\n",
    "eVals = eig_val[idx]\n",
    "eVecs = eig_vec[:, idx]\n",
    "\n",
    "\n",
    "# print(eVals)\n",
    "\n",
    "# select the first 5 eigenvectors, 5 is desired dimension for table 3\n",
    "\n",
    "n_components = 5\n",
    "eVecs_subset = eVecs[:, 0:n_components]\n",
    "eVals_subset = eVals[0:n_components]\n",
    "\n",
    "reduced = np.dot(eVecs_subset.T, cov.T).T\n",
    "# print(np.shape(reduced))\n",
    "pca = pd.DataFrame(reduced, columns=[\"PC1\", \"PC2\", \"PC3\", \"PC4\", \"PC5\"])\n",
    "# df_eVals=pd.DataFrame(eVals_subset,index=0)\n",
    "pca.to_latex(\"tables/pca.tex\", index=False)\n",
    "\n",
    "# Calcute the proportion of variance and cumulative proportion of variance\n",
    "proportion = []\n",
    "cumulative = []\n",
    "cum = 0.0\n",
    "sum = np.sum(eVals_subset)\n",
    "for i in range(len(eVals_subset)):\n",
    "    val = eVals_subset[i]\n",
    "    prop = val / sum\n",
    "    cum += prop\n",
    "    proportion.append(prop)\n",
    "    cumulative.append(cum)\n",
    "\n",
    "indices = [\"Eigenvalue\", \"Proportion\", \"Cumulative\", \"Variable\"]\n",
    "indices.extend(df_norm2.columns)\n",
    "\n",
    "# make a new data frame with the eiegenval row put first and every other row +1 index\n",
    "fig3 = pd.DataFrame(columns=[\"PC1\", \"PC2\", \"PC3\", \"PC4\", \"PC5\"])\n",
    "fig3.loc[0] = np.round(eVals_subset, 4)\n",
    "fig3.loc[1] = np.round(np.asarray(proportion), 3)\n",
    "fig3.loc[2] = np.round(np.asarray(cumulative), 3)\n",
    "fig3.loc[3] = fig3.columns\n",
    "fig3 = fig3.append(np.round(pca, 3), ignore_index=True)\n",
    "fig3 = fig3.set_index(pd.Index(indices))\n",
    "\n",
    "# get latex string via `.to_latex()`\n",
    "latex = fig3.to_latex(\n",
    "    index_names=True,\n",
    "    column_format=\"rrrrrr\",\n",
    "    caption=r\"Results of Eigenanalysis - The Principal Components\\textsuperscript{$\\alpha$}\",\n",
    ")\n",
    "\n",
    "# split lines into a list\n",
    "latex_list = latex.splitlines()\n",
    "\n",
    "# add [h!] for position to first line\n",
    "latex_list[0] = latex_list[0] + \"[h!]\"\n",
    "\n",
    "# insert a `\\midrule` above and below PC\n",
    "latex_list.insert(10, \"\\midrule\")\n",
    "latex_list.insert(12, \"\\midrule\")\n",
    "\n",
    "\n",
    "# join split lines to get the modified latex output string\n",
    "latex_new = \"\\n\".join(latex_list)\n",
    "\n",
    "with open(\"tables/fig3.tex\", \"w\") as f:\n",
    "    f.write(latex_new)\n",
    "\"\"\" Table shown in attached PDF\"\"\""
   ]
  },
  {
   "cell_type": "markdown",
   "metadata": {},
   "source": [
    "**f)** Compute errors of the eigenvalues with a bootstrap analysis or jackknife. Use sample size of 10000. Plot the distributions for the first 5 eigenvalues. **10 Points**"
   ]
  },
  {
   "cell_type": "code",
   "execution_count": null,
   "metadata": {},
   "outputs": [
    {
     "ename": "",
     "evalue": "",
     "output_type": "error",
     "traceback": [
      "\u001b[1;31mRunning cells with 'Python 3.8.10 64-bit' requires ipykernel package.\n",
      "Run the following command to install 'ipykernel' into the Python environment. \n",
      "Command: '/bin/python3.8 -m pip install ipykernel -U --user --force-reinstall'"
     ]
    },
    {
     "ename": "",
     "evalue": "",
     "output_type": "error",
     "traceback": [
      "\u001b[1;31mRunning cells with 'Python 3.8.10 64-bit' requires ipykernel package.\n",
      "Run the following command to install 'ipykernel' into the Python environment. \n",
      "Command: '/bin/python3.8 -m pip install ipykernel -U --user --force-reinstall'"
     ]
    }
   ],
   "source": [
    "n_components = 5\n",
    "e1, e2, e3, e4, e5 = [], [], [], [], []\n",
    "for i in range(10000):\n",
    "    N = np.zeros((13, 13))  # 13x13 matrix of zeros\n",
    "    for k in range(13):\n",
    "        for q in range(13):\n",
    "            i, j = np.random.randint(0, 13, size=2)\n",
    "            N[k][q] = cov[i][j]\n",
    "\n",
    "    eig_val, eig_vec = np.linalg.eig(N)\n",
    "    idx = np.argsort(np.abs(eig_val))[::-1]\n",
    "    eVals = eig_val[idx]\n",
    "    eVals_subset = eVals[0:n_components]\n",
    "    e1.append(eVals_subset[0])\n",
    "    e2.append(eVals_subset[1])\n",
    "    e3.append(eVals_subset[2])\n",
    "    e4.append(eVals_subset[3])\n",
    "    e5.append(eVals_subset[4])"
   ]
  },
  {
   "cell_type": "code",
   "execution_count": null,
   "metadata": {},
   "outputs": [
    {
     "name": "stderr",
     "output_type": "stream",
     "text": [
      "/home/tom/anaconda3/lib/python3.8/site-packages/numpy/lib/histograms.py:851: ComplexWarning: Casting complex values to real discards the imaginary part\n",
      "  indices = f_indices.astype(np.intp)\n",
      "/home/tom/anaconda3/lib/python3.8/site-packages/numpy/core/_asarray.py:83: ComplexWarning: Casting complex values to real discards the imaginary part\n",
      "  return array(a, dtype, copy=False, order=order)\n",
      "/home/tom/anaconda3/lib/python3.8/site-packages/matplotlib/transforms.py:1966: ComplexWarning: Casting complex values to real discards the imaginary part\n",
      "  x, y = float(x), float(y)\n"
     ]
    },
    {
     "data": {
      "image/png": "[encoded data removed]",
      "text/plain": [
       "<Figure size 432x288 with 1 Axes>"
      ]
     },
     "metadata": {
      "needs_background": "light"
     },
     "output_type": "display_data"
    },
    {
     "data": {
      "image/png": "[encoded data removed]",
      "text/plain": [
       "<Figure size 432x288 with 1 Axes>"
      ]
     },
     "metadata": {
      "needs_background": "light"
     },
     "output_type": "display_data"
    },
    {
     "data": {
      "image/png": "[encoded data removed]",
      "text/plain": [
       "<Figure size 432x288 with 1 Axes>"
      ]
     },
     "metadata": {
      "needs_background": "light"
     },
     "output_type": "display_data"
    },
    {
     "data": {
      "image/png": "[encoded data removed]",
      "text/plain": [
       "<Figure size 432x288 with 1 Axes>"
      ]
     },
     "metadata": {
      "needs_background": "light"
     },
     "output_type": "display_data"
    },
    {
     "data": {
      "image/png": "[encoded data removed]",
      "text/plain": [
       "<Figure size 432x288 with 1 Axes>"
      ]
     },
     "metadata": {
      "needs_background": "light"
     },
     "output_type": "display_data"
    },
    {
     "ename": "",
     "evalue": "",
     "output_type": "error",
     "traceback": [
      "\u001b[1;31mRunning cells with 'Python 3.8.10 64-bit' requires ipykernel package.\n",
      "Run the following command to install 'ipykernel' into the Python environment. \n",
      "Command: '/bin/python3.8 -m pip install ipykernel -U --user --force-reinstall'"
     ]
    },
    {
     "ename": "",
     "evalue": "",
     "output_type": "error",
     "traceback": [
      "\u001b[1;31mRunning cells with 'Python 3.8.10 64-bit' requires ipykernel package.\n",
      "Run the following command to install 'ipykernel' into the Python environment. \n",
      "Command: '/bin/python3.8 -m pip install ipykernel -U --user --force-reinstall'"
     ]
    }
   ],
   "source": [
    "es = np.array([e1, e2, e3, e4, e5])\n",
    "# Now plot the distributions of the 5 eigenvalues\n",
    "for i in range(5):\n",
    "    plt.figure()\n",
    "    plt.hist(es[i], bins=50)\n",
    "    plt.xlabel(\"eigenvalue\")\n",
    "    plt.savefig(\"plots/eig_dist\" + str(i) + \".png\", dpi=400, bbox_inches=\"tight\")\n",
    "\n",
    "    # Compute the errors?"
   ]
  }
 ],
 "metadata": {
  "interpreter": {
   "hash": "35455d277cc69279d69bd3d2fff07608906c78ad9fde0fa493e6ee7e737d810e"
  },
  "kernelspec": {
   "display_name": "Python 3.8.5 ('base')",
   "language": "python",
   "name": "python3"
  },
  "language_info": {
   "codemirror_mode": {
    "name": "ipython",
    "version": 3
   },
   "file_extension": ".py",
   "mimetype": "text/x-python",
   "name": "python",
   "nbconvert_exporter": "python",
   "pygments_lexer": "ipython3",
   "version": "3.8.5"
  }
 },
 "nbformat": 4,
 "nbformat_minor": 4
}
