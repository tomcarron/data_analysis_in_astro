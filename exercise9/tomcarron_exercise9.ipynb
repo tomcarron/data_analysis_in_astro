{
 "cells": [
  {
   "cell_type": "markdown",
   "metadata": {},
   "source": [
    "# Exercise Set 9\n",
    "\n",
    "Due: **9:30 13 June 2022**\n",
    "\n",
    "Discussion: **13:00 17 June 2022**\n",
    "\n",
    "**Online submission** at via [ILIAS](https://www.ilias.uni-koeln.de/ilias/goto_uk_exc_4593683.html) in the directory Exercises / Übungen -> Submission of Exercises / Rückgabe des Übungsblätter"
   ]
  },
  {
   "cell_type": "markdown",
   "metadata": {},
   "source": [
    "Data analysis and code development is typically done in larger collaborations. The most common way to do this is with a cloud service suce as [GitHub](https://www.github.com). `git` is a common method used for version control. You can find a descriptions of the various capabilities for example at [Atlassian](https://www.atlassian.com/git/tutorials/setting-up-a-repository).\n",
    "\n",
    "It is recommended that you register on GitHub to get used to it. For the remainder of the course, you may keep your solutions on GitHub and simply send a link to the necessary folder as the ILIAS submission (for example in an ascii file). If you choose to do so, the requirements for a submission remain the same (submit a self-contained pdf) and additional requirements that your repository is called `DataAnalysis` and the exercise solutions are placed in directories `exercise_x/` (so for exercise 9 it would be `exercise_9/`)."
   ]
  },
  {
   "cell_type": "code",
   "execution_count": 1,
   "metadata": {},
   "outputs": [],
   "source": [
    "import numpy as np\n",
    "import matplotlib.pyplot as plt\n",
    "import pandas as pd\n",
    "import os\n",
    "import seaborn as sb\n",
    "from sklearn import linear_model\n",
    "from scipy.optimize import curve_fit\n",
    "from matplotlib import collections as matcoll\n",
    "import scipy.stats as st"
   ]
  },
  {
   "cell_type": "markdown",
   "metadata": {},
   "source": [
    "# 1. Regression - Fitting a line [data exercise] **[50 Points]**"
   ]
  },
  {
   "cell_type": "markdown",
   "metadata": {},
   "source": [
    "In this problem we will fit a linear function $f(x) = y_0 + \\beta_0 x$ to the data from datafile: `line_data.dat`."
   ]
  },
  {
   "cell_type": "markdown",
   "metadata": {},
   "source": [
    "**a)** Perform the linear regression to fit a linear function $f(x) = y_0 + \\beta_0 x$ and plot $f(x)$ together with the data points. **25 Points**"
   ]
  },
  {
   "cell_type": "code",
   "execution_count": 2,
   "metadata": {},
   "outputs": [
    {
     "data": {
      "image/png": "[encoded data removed]",
      "text/plain": [
       "<Figure size 432x288 with 1 Axes>"
      ]
     },
     "metadata": {
      "needs_background": "light"
     },
     "output_type": "display_data"
    }
   ],
   "source": [
    "# load the data\n",
    "df = pd.read_csv(\"line_data.dat\", sep=\"\\s+\", names=[\"x\", \"y\"])\n",
    "# as arrays\n",
    "x, y = df[\"x\"].to_numpy(), df[\"y\"].to_numpy()\n",
    "# Function for fitting\n",
    "def lin_func(x, y0, beta):\n",
    "    f = y0 + beta * x\n",
    "    return f\n",
    "\n",
    "\n",
    "# linear fit\n",
    "popt, pcov = curve_fit(lin_func, x, y)\n",
    "x2 = np.linspace(np.min(x), np.max(x), 1000)\n",
    "# difference between data and the fit\n",
    "y_predicted = lin_func(x, popt[0], popt[1])\n",
    "diff = y - y_predicted\n",
    "\n",
    "# lines between prediction and data\n",
    "lines = []\n",
    "for i in range(len(x)):\n",
    "    pair = [(x[i], y[i]), (x[i], y_predicted[i])]\n",
    "    lines.append(pair)\n",
    "# print(lines)\n",
    "linecoll = matcoll.LineCollection(lines, colors=\"k\")\n",
    "# plot the data\n",
    "fig, ax = plt.subplots()\n",
    "ax.scatter(x, y, label=\"data\", s=9)\n",
    "# ax.scatter(x,lin_func(x,popt[0],popt[1]),s=10,c='green',marker='o',label='predicted')\n",
    "ax.plot(x2, lin_func(x2, popt[0], popt[1]), ls=\"--\", c=\"red\", label=\"fit\")\n",
    "ax.add_collection(linecoll)\n",
    "ax.set_xlabel(\"x\")\n",
    "ax.set_ylabel(\"y\")\n",
    "ax.legend()\n",
    "plt.savefig(\"plots/linreg.png\", dpi=400, bbox_inches=\"tight\")"
   ]
  },
  {
   "cell_type": "markdown",
   "metadata": {},
   "source": [
    "**b)** Compute the residuals and plot them. What is $R^2$? **25 Points**"
   ]
  },
  {
   "cell_type": "code",
   "execution_count": 3,
   "metadata": {},
   "outputs": [
    {
     "data": {
      "image/png": "[encoded data removed]",
      "text/plain": [
       "<Figure size 432x288 with 1 Axes>"
      ]
     },
     "metadata": {
      "needs_background": "light"
     },
     "output_type": "display_data"
    }
   ],
   "source": [
    "# Compute the residuals and plot them\n",
    "# lines between prediction and data\n",
    "lines = []\n",
    "for i in range(len(x)):\n",
    "    pair = [(x[i], 0), (x[i], y[i] - y_predicted[i])]\n",
    "    lines.append(pair)\n",
    "\n",
    "linecoll = matcoll.LineCollection(lines, colors=\"k\")\n",
    "\n",
    "fig, ax = plt.subplots()\n",
    "ax.scatter(x, diff, label=\"data\", s=9)\n",
    "ax.plot(x2, np.zeros_like(x2), \"--\", c=\"r\")\n",
    "ax.add_collection(linecoll)\n",
    "ax.set_ylabel(\"Residuals\")\n",
    "ax.set_xlabel(\"x\")\n",
    "ax.legend()\n",
    "plt.savefig(\"plots/residuals.png\", dpi=400, bbox_inches=\"tight\")"
   ]
  },
  {
   "cell_type": "code",
   "execution_count": 4,
   "metadata": {},
   "outputs": [
    {
     "name": "stdout",
     "output_type": "stream",
     "text": [
      "R2 =  0.6124158502151285\n"
     ]
    }
   ],
   "source": [
    "# R^2\n",
    "# In the case of only one dependent variable, R^2 is the square of the pearson corr coeff\n",
    "R2 = (st.pearsonr(x, y)[0]) ** 2\n",
    "print(\"R2 = \", R2)"
   ]
  },
  {
   "cell_type": "markdown",
   "metadata": {},
   "source": [
    "# 2. Model fit quality assessment **[50 Points]**"
   ]
  },
  {
   "cell_type": "markdown",
   "metadata": {},
   "source": [
    "In this problem you will assess the quality of a fit by inspecting the residuals of the fit. For each of the\n",
    "following plots state whether the residuals indicate a reasonable model fit and briefly explain your\n",
    "conclusion and if applicable how possibly to improve the fit. **50 Points**"
   ]
  },
  {
   "cell_type": "markdown",
   "metadata": {},
   "source": [
    "![test](residuals.jpg)"
   ]
  },
  {
   "cell_type": "markdown",
   "metadata": {},
   "source": [
    "# Plot a)\n",
    "The residuals indicate a good model fit because the residuals are centred around y=0."
   ]
  },
  {
   "cell_type": "markdown",
   "metadata": {},
   "source": [
    "# Plot b)\n",
    "randomly distributed about y=0. Indicates a good model."
   ]
  },
  {
   "cell_type": "markdown",
   "metadata": {},
   "source": [
    "# Plot c)\n",
    "Trend in the residuals, model is not a good fit"
   ]
  },
  {
   "cell_type": "markdown",
   "metadata": {},
   "source": [
    "# Plot d)"
   ]
  },
  {
   "cell_type": "markdown",
   "metadata": {},
   "source": [
    "# Plot e)\n",
    "Trend in the residuals, the model is not suitable for the data."
   ]
  }
 ],
 "metadata": {
  "interpreter": {
   "hash": "35455d277cc69279d69bd3d2fff07608906c78ad9fde0fa493e6ee7e737d810e"
  },
  "kernelspec": {
   "display_name": "Python 3.8.5 ('base')",
   "language": "python",
   "name": "python3"
  },
  "language_info": {
   "codemirror_mode": {
    "name": "ipython",
    "version": 3
   },
   "file_extension": ".py",
   "mimetype": "text/x-python",
   "name": "python",
   "nbconvert_exporter": "python",
   "pygments_lexer": "ipython3",
   "version": "3.8.5"
  }
 },
 "nbformat": 4,
 "nbformat_minor": 4
}
